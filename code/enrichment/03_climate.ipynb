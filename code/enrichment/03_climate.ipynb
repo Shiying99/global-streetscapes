{
 "cells": [
  {
   "cell_type": "markdown",
   "id": "7f5f3ed7-8373-4fc0-b94f-476158fbe0b1",
   "metadata": {},
   "source": [
    "# Append climate zone data"
   ]
  },
  {
   "cell_type": "code",
   "execution_count": 1,
   "id": "8d45780b-74a6-419d-bc9d-147593bc1e5a",
   "metadata": {},
   "outputs": [],
   "source": [
    "import pandas as pd\n",
    "import geopandas as gp\n",
    "import os"
   ]
  },
  {
   "cell_type": "markdown",
   "id": "667899a2-76fe-4a58-99bc-803aa3759d97",
   "metadata": {},
   "source": [
    "## Obtain Koppen climate zone"
   ]
  },
  {
   "cell_type": "code",
   "execution_count": 2,
   "id": "ef45e9a3-c7fd-4cf7-a27b-3a13a049961b",
   "metadata": {},
   "outputs": [
    {
     "name": "stdout",
     "output_type": "stream",
     "text": [
      "<class 'pandas.core.frame.DataFrame'>\n",
      "RangeIndex: 2 entries, 0 to 1\n",
      "Data columns (total 14 columns):\n",
      " #   Column        Non-Null Count  Dtype  \n",
      "---  ------        --------------  -----  \n",
      " 0   city          2 non-null      object \n",
      " 1   city_ascii    2 non-null      object \n",
      " 2   city_lat      2 non-null      float64\n",
      " 3   city_lon      2 non-null      float64\n",
      " 4   country       2 non-null      object \n",
      " 5   iso2          2 non-null      object \n",
      " 6   iso3          2 non-null      object \n",
      " 7   admin_name    2 non-null      object \n",
      " 8   capital       2 non-null      object \n",
      " 9   population    2 non-null      float64\n",
      " 10  city_id       2 non-null      int64  \n",
      " 11  img_count     2 non-null      int64  \n",
      " 12  timezone      2 non-null      object \n",
      " 13  utc_offset_s  2 non-null      float64\n",
      "dtypes: float64(4), int64(2), object(8)\n",
      "memory usage: 352.0+ bytes\n"
     ]
    }
   ],
   "source": [
    "cities = pd.read_csv('./sample_data/cities.csv')\n",
    "cities.info()"
   ]
  },
  {
   "cell_type": "code",
   "execution_count": 3,
   "id": "a20b1707-902a-4845-862b-fd258e009428",
   "metadata": {},
   "outputs": [
    {
     "name": "stderr",
     "output_type": "stream",
     "text": [
      "100%|████████████████████████████████████████████████████████████████| 2/2 [00:01<00:00,  1.29it/s]\n"
     ]
    }
   ],
   "source": [
    "import requests\n",
    "from tqdm import tqdm\n",
    "\n",
    "d = {\n",
    "    'city_id': [],\n",
    "    'koppen_geiger_zone': [],\n",
    "    'zone_description': []\n",
    "}\n",
    "\n",
    "for index, row in tqdm(cities.iterrows(), total=cities.shape[0]):\n",
    "    city_id = row['city_id']\n",
    "    lat = row['city_lat']\n",
    "    lon = row['city_lon']\n",
    "    url = f\"http://climateapi.scottpinkelman.com/api/v1/location/{lat}/{lon}\"\n",
    "    response = requests.get(url)\n",
    "    values = response.json()['return_values'][0]\n",
    "    zone = values['koppen_geiger_zone']\n",
    "    desc = values['zone_description']\n",
    "    d['city_id'].append(city_id)\n",
    "    d['koppen_geiger_zone'].append(zone)\n",
    "    d['zone_description'].append(desc)"
   ]
  },
  {
   "cell_type": "code",
   "execution_count": 4,
   "id": "d8dcd95e-9778-4ec2-afe6-0fb7c2def755",
   "metadata": {
    "tags": []
   },
   "outputs": [
    {
     "data": {
      "text/html": [
       "<div>\n",
       "<style scoped>\n",
       "    .dataframe tbody tr th:only-of-type {\n",
       "        vertical-align: middle;\n",
       "    }\n",
       "\n",
       "    .dataframe tbody tr th {\n",
       "        vertical-align: top;\n",
       "    }\n",
       "\n",
       "    .dataframe thead th {\n",
       "        text-align: right;\n",
       "    }\n",
       "</style>\n",
       "<table border=\"1\" class=\"dataframe\">\n",
       "  <thead>\n",
       "    <tr style=\"text-align: right;\">\n",
       "      <th></th>\n",
       "      <th>city_id</th>\n",
       "      <th>koppen_geiger_zone</th>\n",
       "      <th>zone_description</th>\n",
       "    </tr>\n",
       "  </thead>\n",
       "  <tbody>\n",
       "    <tr>\n",
       "      <th>0</th>\n",
       "      <td>1702341327</td>\n",
       "      <td>Af</td>\n",
       "      <td>Tropical rainforest</td>\n",
       "    </tr>\n",
       "    <tr>\n",
       "      <th>1</th>\n",
       "      <td>1276171358</td>\n",
       "      <td>Cfb</td>\n",
       "      <td>Marine west coast, warm summer</td>\n",
       "    </tr>\n",
       "  </tbody>\n",
       "</table>\n",
       "</div>"
      ],
      "text/plain": [
       "      city_id koppen_geiger_zone                zone_description\n",
       "0  1702341327                 Af             Tropical rainforest\n",
       "1  1276171358                Cfb  Marine west coast, warm summer"
      ]
     },
     "execution_count": 4,
     "metadata": {},
     "output_type": "execute_result"
    }
   ],
   "source": [
    "temp = pd.DataFrame.from_dict(d)\n",
    "temp"
   ]
  },
  {
   "cell_type": "code",
   "execution_count": 5,
   "id": "39190e4c-3dcb-4734-8b25-9d60cd2b51e0",
   "metadata": {},
   "outputs": [
    {
     "name": "stdout",
     "output_type": "stream",
     "text": [
      "<class 'pandas.core.frame.DataFrame'>\n",
      "Int64Index: 2 entries, 0 to 1\n",
      "Data columns (total 16 columns):\n",
      " #   Column              Non-Null Count  Dtype  \n",
      "---  ------              --------------  -----  \n",
      " 0   city                2 non-null      object \n",
      " 1   city_ascii          2 non-null      object \n",
      " 2   city_lat            2 non-null      float64\n",
      " 3   city_lon            2 non-null      float64\n",
      " 4   country             2 non-null      object \n",
      " 5   iso2                2 non-null      object \n",
      " 6   iso3                2 non-null      object \n",
      " 7   admin_name          2 non-null      object \n",
      " 8   capital             2 non-null      object \n",
      " 9   population          2 non-null      float64\n",
      " 10  city_id             2 non-null      int64  \n",
      " 11  img_count           2 non-null      int64  \n",
      " 12  timezone            2 non-null      object \n",
      " 13  utc_offset_s        2 non-null      float64\n",
      " 14  koppen_geiger_zone  2 non-null      object \n",
      " 15  zone_description    2 non-null      object \n",
      "dtypes: float64(4), int64(2), object(10)\n",
      "memory usage: 272.0+ bytes\n"
     ]
    }
   ],
   "source": [
    "cities_zones = cities.merge(temp, on='city_id', how='left')\n",
    "cities_zones.info()"
   ]
  },
  {
   "cell_type": "code",
   "execution_count": 6,
   "id": "489f3875-7e51-43e8-b176-2a03245b899b",
   "metadata": {},
   "outputs": [
    {
     "data": {
      "text/html": [
       "<div>\n",
       "<style scoped>\n",
       "    .dataframe tbody tr th:only-of-type {\n",
       "        vertical-align: middle;\n",
       "    }\n",
       "\n",
       "    .dataframe tbody tr th {\n",
       "        vertical-align: top;\n",
       "    }\n",
       "\n",
       "    .dataframe thead th {\n",
       "        text-align: right;\n",
       "    }\n",
       "</style>\n",
       "<table border=\"1\" class=\"dataframe\">\n",
       "  <thead>\n",
       "    <tr style=\"text-align: right;\">\n",
       "      <th></th>\n",
       "      <th>city</th>\n",
       "      <th>city_ascii</th>\n",
       "      <th>city_lat</th>\n",
       "      <th>city_lon</th>\n",
       "      <th>country</th>\n",
       "      <th>iso2</th>\n",
       "      <th>iso3</th>\n",
       "      <th>admin_name</th>\n",
       "      <th>capital</th>\n",
       "      <th>population</th>\n",
       "      <th>city_id</th>\n",
       "      <th>img_count</th>\n",
       "      <th>timezone</th>\n",
       "      <th>utc_offset_s</th>\n",
       "      <th>koppen_geiger_zone</th>\n",
       "      <th>zone_description</th>\n",
       "    </tr>\n",
       "  </thead>\n",
       "  <tbody>\n",
       "  </tbody>\n",
       "</table>\n",
       "</div>"
      ],
      "text/plain": [
       "Empty DataFrame\n",
       "Columns: [city, city_ascii, city_lat, city_lon, country, iso2, iso3, admin_name, capital, population, city_id, img_count, timezone, utc_offset_s, koppen_geiger_zone, zone_description]\n",
       "Index: []"
      ]
     },
     "execution_count": 6,
     "metadata": {},
     "output_type": "execute_result"
    }
   ],
   "source": [
    "cities_zones[cities_zones['koppen_geiger_zone'].isnull()]"
   ]
  },
  {
   "cell_type": "code",
   "execution_count": null,
   "id": "87fcf145-8021-4687-bdc0-9b6e9843db11",
   "metadata": {},
   "outputs": [],
   "source": [
    "# in case of null values from above^, manually search for the koppen climate zone for the missing cities and \n",
    "# fill in the 'missing' dictionary accordingly, and run the code below to fill in the information\n",
    "# missing = {\n",
    "#     # city id: {'koppen_geiger_zone': insert zone code, 'zone_description': insert zone description}\n",
    "#     # for example,\n",
    "#     # 1296152641: {'koppen_geiger_zone': 'Af', \n",
    "#     #             'zone_description': 'Tropical rainforest'}\n",
    "# }\n",
    "\n",
    "# def fill_missing_code(row):\n",
    "#     if pd.isna(row['koppen_geiger_zone']):\n",
    "#         city_id = row['city_id']\n",
    "#         return missing[city_id]['koppen_geiger_zone']\n",
    "#     else:\n",
    "#         return row['koppen_geiger_zone']\n",
    "\n",
    "# def fill_missing_desc(row):\n",
    "#     if pd.isna(row['zone_description']):\n",
    "#         city_id = row['city_id']\n",
    "#         return missing[city_id]['zone_description']\n",
    "#     else:\n",
    "#         return row['zone_description']\n",
    "\n",
    "# cities_zones['koppen_geiger_zone'] = cities_zones.apply(lambda row: fill_missing_code(row), axis=1)\n",
    "# cities_zones['zone_description'] = cities_zones.apply(lambda row: fill_missing_desc(row), axis=1)"
   ]
  },
  {
   "cell_type": "code",
   "execution_count": 10,
   "id": "fd809a5e-3c67-4a9b-b33f-f0d4142d6fa1",
   "metadata": {},
   "outputs": [
    {
     "data": {
      "text/plain": [
       "Tropical rainforest               1\n",
       "Marine west coast, warm summer    1\n",
       "Name: zone_description, dtype: int64"
      ]
     },
     "execution_count": 10,
     "metadata": {},
     "output_type": "execute_result"
    }
   ],
   "source": [
    "cities_zones.zone_description.value_counts()"
   ]
  },
  {
   "cell_type": "code",
   "execution_count": 8,
   "id": "a8192d37-af19-4bd0-aede-1bf911a62d44",
   "metadata": {},
   "outputs": [],
   "source": [
    "def correct_typo(row):\n",
    "    zone = row['zone_description']\n",
    "    if 'Subartic' in zone:\n",
    "        return 'Subarctic, severe winter, no dry season, cool summer'\n",
    "    else:\n",
    "        return zone\n",
    "\n",
    "cities_zones['zone_description'] = cities_zones.apply(lambda row: correct_typo(row), axis=1)"
   ]
  },
  {
   "cell_type": "code",
   "execution_count": 9,
   "id": "09ebb113-894a-40ef-b92f-b010e4efbc1c",
   "metadata": {},
   "outputs": [
    {
     "data": {
      "text/plain": [
       "Tropical rainforest               1\n",
       "Marine west coast, warm summer    1\n",
       "Name: zone_description, dtype: int64"
      ]
     },
     "execution_count": 9,
     "metadata": {},
     "output_type": "execute_result"
    }
   ],
   "source": [
    "cities_zones.zone_description.value_counts()"
   ]
  },
  {
   "cell_type": "code",
   "execution_count": 11,
   "id": "86e343e3-7357-4ea3-98cb-0f8554248526",
   "metadata": {},
   "outputs": [],
   "source": [
    "cities_zones.to_csv('./sample_data/cities.csv', index=False)"
   ]
  },
  {
   "cell_type": "markdown",
   "id": "b6c1fdeb-fc3a-412b-8743-e24b1befd721",
   "metadata": {},
   "source": [
    "## Join data"
   ]
  },
  {
   "cell_type": "code",
   "execution_count": 12,
   "id": "8aea5e8c-1b58-4b68-a76e-02db91bc0eec",
   "metadata": {},
   "outputs": [],
   "source": [
    "sm = pd.read_csv('./sample_data/01_simplemaps.csv')"
   ]
  },
  {
   "cell_type": "code",
   "execution_count": 14,
   "id": "3bbfd293-be98-4967-8048-e6f76477d16c",
   "metadata": {},
   "outputs": [
    {
     "name": "stdout",
     "output_type": "stream",
     "text": [
      "<class 'pandas.core.frame.DataFrame'>\n",
      "Int64Index: 2319 entries, 0 to 2318\n",
      "Data columns (total 17 columns):\n",
      " #   Column              Non-Null Count  Dtype  \n",
      "---  ------              --------------  -----  \n",
      " 0   uuid                2319 non-null   object \n",
      " 1   source              2319 non-null   object \n",
      " 2   orig_id             2319 non-null   int64  \n",
      " 3   city                2319 non-null   object \n",
      " 4   city_ascii          2319 non-null   object \n",
      " 5   city_id             2319 non-null   int64  \n",
      " 6   city_lat            2319 non-null   float64\n",
      " 7   city_lon            2319 non-null   float64\n",
      " 8   country             2319 non-null   object \n",
      " 9   iso2                2319 non-null   object \n",
      " 10  iso3                2319 non-null   object \n",
      " 11  admin_name          2319 non-null   object \n",
      " 12  capital             2319 non-null   object \n",
      " 13  population          2319 non-null   float64\n",
      " 14  continent           2319 non-null   object \n",
      " 15  koppen_geiger_zone  2319 non-null   object \n",
      " 16  zone_description    2319 non-null   object \n",
      "dtypes: float64(3), int64(2), object(12)\n",
      "memory usage: 326.1+ KB\n"
     ]
    }
   ],
   "source": [
    "cols = ['city_id', 'koppen_geiger_zone', 'zone_description']\n",
    "climate = sm.merge(cities_zones[cols], on='city_id', how='left')\n",
    "climate.info(verbose=True, show_counts=True)"
   ]
  },
  {
   "cell_type": "code",
   "execution_count": 17,
   "id": "eec117a8-1367-4225-9e0d-dc09abe4b0b7",
   "metadata": {},
   "outputs": [
    {
     "name": "stdout",
     "output_type": "stream",
     "text": [
      "<class 'pandas.core.frame.DataFrame'>\n",
      "Int64Index: 2319 entries, 0 to 2318\n",
      "Data columns (total 5 columns):\n",
      " #   Column              Non-Null Count  Dtype \n",
      "---  ------              --------------  ----- \n",
      " 0   uuid                2319 non-null   object\n",
      " 1   source              2319 non-null   object\n",
      " 2   orig_id             2319 non-null   int64 \n",
      " 3   koppen_geiger_zone  2319 non-null   object\n",
      " 4   zone_description    2319 non-null   object\n",
      "dtypes: int64(1), object(4)\n",
      "memory usage: 108.7+ KB\n"
     ]
    }
   ],
   "source": [
    "cols = ['uuid', 'source', 'orig_id', 'koppen_geiger_zone', 'zone_description']\n",
    "climate = climate[cols]\n",
    "climate.info()"
   ]
  },
  {
   "cell_type": "code",
   "execution_count": 18,
   "id": "4690c0cf-2790-4642-b8f7-fcab973648f4",
   "metadata": {},
   "outputs": [],
   "source": [
    "climate.to_csv('./sample_data/03_climate.csv', index=False)"
   ]
  }
 ],
 "metadata": {
  "kernelspec": {
   "display_name": "Python 3 (ipykernel)",
   "language": "python",
   "name": "python3"
  },
  "language_info": {
   "codemirror_mode": {
    "name": "ipython",
    "version": 3
   },
   "file_extension": ".py",
   "mimetype": "text/x-python",
   "name": "python",
   "nbconvert_exporter": "python",
   "pygments_lexer": "ipython3",
   "version": "3.10.1"
  }
 },
 "nbformat": 4,
 "nbformat_minor": 5
}
