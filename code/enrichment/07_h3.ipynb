{
 "cells": [
  {
   "cell_type": "markdown",
   "id": "e31f4d0f-fe02-42a7-9892-682d9a286247",
   "metadata": {},
   "source": [
    "# Append H3 index"
   ]
  },
  {
   "cell_type": "code",
   "execution_count": 2,
   "id": "3b49e8a3-c950-4f3c-8422-9061f242d116",
   "metadata": {},
   "outputs": [],
   "source": [
    "import pandas as pd\n",
    "import geopandas as gp\n",
    "from h3 import h3"
   ]
  },
  {
   "cell_type": "code",
   "execution_count": 4,
   "id": "9b6b03b0-0e2e-42d7-880d-84463d7bf7aa",
   "metadata": {},
   "outputs": [
    {
     "name": "stdout",
     "output_type": "stream",
     "text": [
      "<class 'pandas.core.frame.DataFrame'>\n",
      "RangeIndex: 2319 entries, 0 to 2318\n",
      "Data columns (total 5 columns):\n",
      " #   Column   Non-Null Count  Dtype  \n",
      "---  ------   --------------  -----  \n",
      " 0   uuid     2319 non-null   object \n",
      " 1   source   2319 non-null   object \n",
      " 2   orig_id  2319 non-null   int64  \n",
      " 3   lat      2319 non-null   float64\n",
      " 4   lon      2319 non-null   float64\n",
      "dtypes: float64(2), int64(1), object(2)\n",
      "memory usage: 90.7+ KB\n"
     ]
    }
   ],
   "source": [
    "cols = ['uuid', 'source', 'orig_id', 'lat', 'lon']\n",
    "df = pd.read_csv('./sample_data/02_metadata_common_attributes.csv')[cols]\n",
    "df.info()"
   ]
  },
  {
   "cell_type": "code",
   "execution_count": 5,
   "id": "66ad2f46-40c4-4867-86e8-55b62e2e2dd4",
   "metadata": {},
   "outputs": [],
   "source": [
    "def append_h3_str(row, res):\n",
    "    h = h3.geo_to_h3(row['lat'], row['lon'], res)\n",
    "    return h"
   ]
  },
  {
   "cell_type": "code",
   "execution_count": 6,
   "id": "3e0384e2-0238-4e53-b424-901ace658a24",
   "metadata": {},
   "outputs": [
    {
     "name": "stdout",
     "output_type": "stream",
     "text": [
      "[0, 1, 2, 3, 4, 5, 6, 7, 8, 9, 10, 11, 12, 13, 14, 15]\n"
     ]
    },
    {
     "data": {
      "application/json": {
       "ascii": false,
       "bar_format": null,
       "colour": null,
       "elapsed": 0.015618085861206055,
       "initial": 0,
       "n": 0,
       "ncols": null,
       "nrows": 34,
       "postfix": null,
       "prefix": "",
       "rate": null,
       "total": 2319,
       "unit": "it",
       "unit_divisor": 1000,
       "unit_scale": false
      },
      "application/vnd.jupyter.widget-view+json": {
       "model_id": "ed6d093573a34ecdbd50005e9a09d3a3",
       "version_major": 2,
       "version_minor": 0
      },
      "text/plain": [
       "  0%|          | 0/2319 [00:00<?, ?it/s]"
      ]
     },
     "metadata": {},
     "output_type": "display_data"
    },
    {
     "data": {
      "application/json": {
       "ascii": false,
       "bar_format": null,
       "colour": null,
       "elapsed": 0.009864091873168945,
       "initial": 0,
       "n": 0,
       "ncols": null,
       "nrows": 34,
       "postfix": null,
       "prefix": "",
       "rate": null,
       "total": 2319,
       "unit": "it",
       "unit_divisor": 1000,
       "unit_scale": false
      },
      "application/vnd.jupyter.widget-view+json": {
       "model_id": "82e09377eb094ad9a8535e5329bae75c",
       "version_major": 2,
       "version_minor": 0
      },
      "text/plain": [
       "  0%|          | 0/2319 [00:00<?, ?it/s]"
      ]
     },
     "metadata": {},
     "output_type": "display_data"
    },
    {
     "data": {
      "application/json": {
       "ascii": false,
       "bar_format": null,
       "colour": null,
       "elapsed": 0.008988142013549805,
       "initial": 0,
       "n": 0,
       "ncols": null,
       "nrows": 34,
       "postfix": null,
       "prefix": "",
       "rate": null,
       "total": 2319,
       "unit": "it",
       "unit_divisor": 1000,
       "unit_scale": false
      },
      "application/vnd.jupyter.widget-view+json": {
       "model_id": "acb586c11e05432285dfd47fbaaac425",
       "version_major": 2,
       "version_minor": 0
      },
      "text/plain": [
       "  0%|          | 0/2319 [00:00<?, ?it/s]"
      ]
     },
     "metadata": {},
     "output_type": "display_data"
    },
    {
     "data": {
      "application/json": {
       "ascii": false,
       "bar_format": null,
       "colour": null,
       "elapsed": 0.009163856506347656,
       "initial": 0,
       "n": 0,
       "ncols": null,
       "nrows": 34,
       "postfix": null,
       "prefix": "",
       "rate": null,
       "total": 2319,
       "unit": "it",
       "unit_divisor": 1000,
       "unit_scale": false
      },
      "application/vnd.jupyter.widget-view+json": {
       "model_id": "ab387ab2f623400790b955bf37dab46d",
       "version_major": 2,
       "version_minor": 0
      },
      "text/plain": [
       "  0%|          | 0/2319 [00:00<?, ?it/s]"
      ]
     },
     "metadata": {},
     "output_type": "display_data"
    },
    {
     "data": {
      "application/json": {
       "ascii": false,
       "bar_format": null,
       "colour": null,
       "elapsed": 0.008797883987426758,
       "initial": 0,
       "n": 0,
       "ncols": null,
       "nrows": 34,
       "postfix": null,
       "prefix": "",
       "rate": null,
       "total": 2319,
       "unit": "it",
       "unit_divisor": 1000,
       "unit_scale": false
      },
      "application/vnd.jupyter.widget-view+json": {
       "model_id": "9d3dc420eb2744848d6b9522ec03de63",
       "version_major": 2,
       "version_minor": 0
      },
      "text/plain": [
       "  0%|          | 0/2319 [00:00<?, ?it/s]"
      ]
     },
     "metadata": {},
     "output_type": "display_data"
    },
    {
     "data": {
      "application/json": {
       "ascii": false,
       "bar_format": null,
       "colour": null,
       "elapsed": 0.008690118789672852,
       "initial": 0,
       "n": 0,
       "ncols": null,
       "nrows": 34,
       "postfix": null,
       "prefix": "",
       "rate": null,
       "total": 2319,
       "unit": "it",
       "unit_divisor": 1000,
       "unit_scale": false
      },
      "application/vnd.jupyter.widget-view+json": {
       "model_id": "7f884870e24843468cf5e8d2a7bdabbd",
       "version_major": 2,
       "version_minor": 0
      },
      "text/plain": [
       "  0%|          | 0/2319 [00:00<?, ?it/s]"
      ]
     },
     "metadata": {},
     "output_type": "display_data"
    },
    {
     "data": {
      "application/json": {
       "ascii": false,
       "bar_format": null,
       "colour": null,
       "elapsed": 0.009522199630737305,
       "initial": 0,
       "n": 0,
       "ncols": null,
       "nrows": 34,
       "postfix": null,
       "prefix": "",
       "rate": null,
       "total": 2319,
       "unit": "it",
       "unit_divisor": 1000,
       "unit_scale": false
      },
      "application/vnd.jupyter.widget-view+json": {
       "model_id": "04483bad298343b4a6baead053f6203c",
       "version_major": 2,
       "version_minor": 0
      },
      "text/plain": [
       "  0%|          | 0/2319 [00:00<?, ?it/s]"
      ]
     },
     "metadata": {},
     "output_type": "display_data"
    },
    {
     "data": {
      "application/json": {
       "ascii": false,
       "bar_format": null,
       "colour": null,
       "elapsed": 0.008897781372070312,
       "initial": 0,
       "n": 0,
       "ncols": null,
       "nrows": 34,
       "postfix": null,
       "prefix": "",
       "rate": null,
       "total": 2319,
       "unit": "it",
       "unit_divisor": 1000,
       "unit_scale": false
      },
      "application/vnd.jupyter.widget-view+json": {
       "model_id": "9c757c004242471c8d23f1ae16f858aa",
       "version_major": 2,
       "version_minor": 0
      },
      "text/plain": [
       "  0%|          | 0/2319 [00:00<?, ?it/s]"
      ]
     },
     "metadata": {},
     "output_type": "display_data"
    },
    {
     "data": {
      "application/json": {
       "ascii": false,
       "bar_format": null,
       "colour": null,
       "elapsed": 0.008791208267211914,
       "initial": 0,
       "n": 0,
       "ncols": null,
       "nrows": 34,
       "postfix": null,
       "prefix": "",
       "rate": null,
       "total": 2319,
       "unit": "it",
       "unit_divisor": 1000,
       "unit_scale": false
      },
      "application/vnd.jupyter.widget-view+json": {
       "model_id": "903e317088dc4ea3972d7741bdd266e2",
       "version_major": 2,
       "version_minor": 0
      },
      "text/plain": [
       "  0%|          | 0/2319 [00:00<?, ?it/s]"
      ]
     },
     "metadata": {},
     "output_type": "display_data"
    },
    {
     "data": {
      "application/json": {
       "ascii": false,
       "bar_format": null,
       "colour": null,
       "elapsed": 0.008671998977661133,
       "initial": 0,
       "n": 0,
       "ncols": null,
       "nrows": 34,
       "postfix": null,
       "prefix": "",
       "rate": null,
       "total": 2319,
       "unit": "it",
       "unit_divisor": 1000,
       "unit_scale": false
      },
      "application/vnd.jupyter.widget-view+json": {
       "model_id": "03b4fad8264943bfbe56159294357032",
       "version_major": 2,
       "version_minor": 0
      },
      "text/plain": [
       "  0%|          | 0/2319 [00:00<?, ?it/s]"
      ]
     },
     "metadata": {},
     "output_type": "display_data"
    },
    {
     "data": {
      "application/json": {
       "ascii": false,
       "bar_format": null,
       "colour": null,
       "elapsed": 0.010308027267456055,
       "initial": 0,
       "n": 0,
       "ncols": null,
       "nrows": 34,
       "postfix": null,
       "prefix": "",
       "rate": null,
       "total": 2319,
       "unit": "it",
       "unit_divisor": 1000,
       "unit_scale": false
      },
      "application/vnd.jupyter.widget-view+json": {
       "model_id": "ae260ec17cd842f89f08a6c5f87b4322",
       "version_major": 2,
       "version_minor": 0
      },
      "text/plain": [
       "  0%|          | 0/2319 [00:00<?, ?it/s]"
      ]
     },
     "metadata": {},
     "output_type": "display_data"
    },
    {
     "data": {
      "application/json": {
       "ascii": false,
       "bar_format": null,
       "colour": null,
       "elapsed": 0.009441137313842773,
       "initial": 0,
       "n": 0,
       "ncols": null,
       "nrows": 34,
       "postfix": null,
       "prefix": "",
       "rate": null,
       "total": 2319,
       "unit": "it",
       "unit_divisor": 1000,
       "unit_scale": false
      },
      "application/vnd.jupyter.widget-view+json": {
       "model_id": "d5522af8b8bf43b18c47728515472244",
       "version_major": 2,
       "version_minor": 0
      },
      "text/plain": [
       "  0%|          | 0/2319 [00:00<?, ?it/s]"
      ]
     },
     "metadata": {},
     "output_type": "display_data"
    },
    {
     "data": {
      "application/json": {
       "ascii": false,
       "bar_format": null,
       "colour": null,
       "elapsed": 0.00916600227355957,
       "initial": 0,
       "n": 0,
       "ncols": null,
       "nrows": 34,
       "postfix": null,
       "prefix": "",
       "rate": null,
       "total": 2319,
       "unit": "it",
       "unit_divisor": 1000,
       "unit_scale": false
      },
      "application/vnd.jupyter.widget-view+json": {
       "model_id": "43a3d1d34f014330894c6c405663a76b",
       "version_major": 2,
       "version_minor": 0
      },
      "text/plain": [
       "  0%|          | 0/2319 [00:00<?, ?it/s]"
      ]
     },
     "metadata": {},
     "output_type": "display_data"
    },
    {
     "data": {
      "application/json": {
       "ascii": false,
       "bar_format": null,
       "colour": null,
       "elapsed": 0.00919198989868164,
       "initial": 0,
       "n": 0,
       "ncols": null,
       "nrows": 34,
       "postfix": null,
       "prefix": "",
       "rate": null,
       "total": 2319,
       "unit": "it",
       "unit_divisor": 1000,
       "unit_scale": false
      },
      "application/vnd.jupyter.widget-view+json": {
       "model_id": "81a64fe7b80d469583431f9a576c2973",
       "version_major": 2,
       "version_minor": 0
      },
      "text/plain": [
       "  0%|          | 0/2319 [00:00<?, ?it/s]"
      ]
     },
     "metadata": {},
     "output_type": "display_data"
    },
    {
     "data": {
      "application/json": {
       "ascii": false,
       "bar_format": null,
       "colour": null,
       "elapsed": 0.008708000183105469,
       "initial": 0,
       "n": 0,
       "ncols": null,
       "nrows": 34,
       "postfix": null,
       "prefix": "",
       "rate": null,
       "total": 2319,
       "unit": "it",
       "unit_divisor": 1000,
       "unit_scale": false
      },
      "application/vnd.jupyter.widget-view+json": {
       "model_id": "fb83c707f60d46fca77df61679c62f42",
       "version_major": 2,
       "version_minor": 0
      },
      "text/plain": [
       "  0%|          | 0/2319 [00:00<?, ?it/s]"
      ]
     },
     "metadata": {},
     "output_type": "display_data"
    },
    {
     "data": {
      "application/json": {
       "ascii": false,
       "bar_format": null,
       "colour": null,
       "elapsed": 0.008671998977661133,
       "initial": 0,
       "n": 0,
       "ncols": null,
       "nrows": 34,
       "postfix": null,
       "prefix": "",
       "rate": null,
       "total": 2319,
       "unit": "it",
       "unit_divisor": 1000,
       "unit_scale": false
      },
      "application/vnd.jupyter.widget-view+json": {
       "model_id": "4bc939ef29c94b8e8887515c04220ad9",
       "version_major": 2,
       "version_minor": 0
      },
      "text/plain": [
       "  0%|          | 0/2319 [00:00<?, ?it/s]"
      ]
     },
     "metadata": {},
     "output_type": "display_data"
    },
    {
     "data": {
      "text/html": [
       "<div>\n",
       "<style scoped>\n",
       "    .dataframe tbody tr th:only-of-type {\n",
       "        vertical-align: middle;\n",
       "    }\n",
       "\n",
       "    .dataframe tbody tr th {\n",
       "        vertical-align: top;\n",
       "    }\n",
       "\n",
       "    .dataframe thead th {\n",
       "        text-align: right;\n",
       "    }\n",
       "</style>\n",
       "<table border=\"1\" class=\"dataframe\">\n",
       "  <thead>\n",
       "    <tr style=\"text-align: right;\">\n",
       "      <th></th>\n",
       "      <th>uuid</th>\n",
       "      <th>source</th>\n",
       "      <th>orig_id</th>\n",
       "      <th>lat</th>\n",
       "      <th>lon</th>\n",
       "      <th>h3_0</th>\n",
       "      <th>h3_1</th>\n",
       "      <th>h3_2</th>\n",
       "      <th>h3_3</th>\n",
       "      <th>h3_4</th>\n",
       "      <th>...</th>\n",
       "      <th>h3_6</th>\n",
       "      <th>h3_7</th>\n",
       "      <th>h3_8</th>\n",
       "      <th>h3_9</th>\n",
       "      <th>h3_10</th>\n",
       "      <th>h3_11</th>\n",
       "      <th>h3_12</th>\n",
       "      <th>h3_13</th>\n",
       "      <th>h3_14</th>\n",
       "      <th>h3_15</th>\n",
       "    </tr>\n",
       "  </thead>\n",
       "  <tbody>\n",
       "    <tr>\n",
       "      <th>0</th>\n",
       "      <td>d39b5e69-6291-46fc-a2f8-5947a7e024ee</td>\n",
       "      <td>Mapillary</td>\n",
       "      <td>1666317524185318</td>\n",
       "      <td>48.768944</td>\n",
       "      <td>9.171621</td>\n",
       "      <td>801ffffffffffff</td>\n",
       "      <td>811fbffffffffff</td>\n",
       "      <td>821faffffffffff</td>\n",
       "      <td>831faafffffffff</td>\n",
       "      <td>841faa7ffffffff</td>\n",
       "      <td>...</td>\n",
       "      <td>861faa7afffffff</td>\n",
       "      <td>871faa7a8ffffff</td>\n",
       "      <td>881faa7a87fffff</td>\n",
       "      <td>891faa7a873ffff</td>\n",
       "      <td>8a1faa7a8717fff</td>\n",
       "      <td>8b1faa7a8715fff</td>\n",
       "      <td>8c1faa7a8710bff</td>\n",
       "      <td>8d1faa7a8710b7f</td>\n",
       "      <td>8e1faa7a8710b77</td>\n",
       "      <td>8f1faa7a8710b75</td>\n",
       "    </tr>\n",
       "    <tr>\n",
       "      <th>1</th>\n",
       "      <td>07968c89-5a2a-4913-a870-7eaab4830be5</td>\n",
       "      <td>Mapillary</td>\n",
       "      <td>1014949793367409</td>\n",
       "      <td>48.774710</td>\n",
       "      <td>9.172372</td>\n",
       "      <td>801ffffffffffff</td>\n",
       "      <td>811fbffffffffff</td>\n",
       "      <td>821faffffffffff</td>\n",
       "      <td>831faafffffffff</td>\n",
       "      <td>841faa7ffffffff</td>\n",
       "      <td>...</td>\n",
       "      <td>861faa7afffffff</td>\n",
       "      <td>871faa7a8ffffff</td>\n",
       "      <td>881faa7a81fffff</td>\n",
       "      <td>891faa7a803ffff</td>\n",
       "      <td>8a1faa7a8007fff</td>\n",
       "      <td>8b1faa7a8000fff</td>\n",
       "      <td>8c1faa7a80003ff</td>\n",
       "      <td>8d1faa7a800027f</td>\n",
       "      <td>8e1faa7a8000247</td>\n",
       "      <td>8f1faa7a8000244</td>\n",
       "    </tr>\n",
       "    <tr>\n",
       "      <th>2</th>\n",
       "      <td>f8be9181-606c-4f23-88c5-2608d6cdea7b</td>\n",
       "      <td>Mapillary</td>\n",
       "      <td>2762100457273030</td>\n",
       "      <td>48.769644</td>\n",
       "      <td>9.169775</td>\n",
       "      <td>801ffffffffffff</td>\n",
       "      <td>811fbffffffffff</td>\n",
       "      <td>821faffffffffff</td>\n",
       "      <td>831faafffffffff</td>\n",
       "      <td>841faa7ffffffff</td>\n",
       "      <td>...</td>\n",
       "      <td>861faa7afffffff</td>\n",
       "      <td>871faa7a8ffffff</td>\n",
       "      <td>881faa7a85fffff</td>\n",
       "      <td>891faa7a847ffff</td>\n",
       "      <td>8a1faa7a846ffff</td>\n",
       "      <td>8b1faa7a846bfff</td>\n",
       "      <td>8c1faa7a846b3ff</td>\n",
       "      <td>8d1faa7a846b3bf</td>\n",
       "      <td>8e1faa7a846b387</td>\n",
       "      <td>8f1faa7a846b380</td>\n",
       "    </tr>\n",
       "    <tr>\n",
       "      <th>3</th>\n",
       "      <td>b9929935-7b0c-4c57-aca5-8f01fa37ee8b</td>\n",
       "      <td>Mapillary</td>\n",
       "      <td>1165840751204664</td>\n",
       "      <td>48.773321</td>\n",
       "      <td>9.167029</td>\n",
       "      <td>801ffffffffffff</td>\n",
       "      <td>811fbffffffffff</td>\n",
       "      <td>821faffffffffff</td>\n",
       "      <td>831faafffffffff</td>\n",
       "      <td>841faa7ffffffff</td>\n",
       "      <td>...</td>\n",
       "      <td>861faa7afffffff</td>\n",
       "      <td>871faa7a8ffffff</td>\n",
       "      <td>881faa7a81fffff</td>\n",
       "      <td>891faa7a81bffff</td>\n",
       "      <td>8a1faa7a819ffff</td>\n",
       "      <td>8b1faa7a819efff</td>\n",
       "      <td>8c1faa7a819e9ff</td>\n",
       "      <td>8d1faa7a819e93f</td>\n",
       "      <td>8e1faa7a819e917</td>\n",
       "      <td>8f1faa7a819e911</td>\n",
       "    </tr>\n",
       "    <tr>\n",
       "      <th>4</th>\n",
       "      <td>c10b66a3-68bd-4dcf-9a86-6b17806e1dfc</td>\n",
       "      <td>Mapillary</td>\n",
       "      <td>1517629215831295</td>\n",
       "      <td>48.764962</td>\n",
       "      <td>9.168434</td>\n",
       "      <td>801ffffffffffff</td>\n",
       "      <td>811fbffffffffff</td>\n",
       "      <td>821faffffffffff</td>\n",
       "      <td>831faafffffffff</td>\n",
       "      <td>841faa7ffffffff</td>\n",
       "      <td>...</td>\n",
       "      <td>861faa7afffffff</td>\n",
       "      <td>871faa7a8ffffff</td>\n",
       "      <td>881faa7aabfffff</td>\n",
       "      <td>891faa7aab7ffff</td>\n",
       "      <td>8a1faa7aab67fff</td>\n",
       "      <td>8b1faa7aab63fff</td>\n",
       "      <td>8c1faa7aab639ff</td>\n",
       "      <td>8d1faa7aab6393f</td>\n",
       "      <td>8e1faa7aab63907</td>\n",
       "      <td>8f1faa7aab63903</td>\n",
       "    </tr>\n",
       "  </tbody>\n",
       "</table>\n",
       "<p>5 rows × 21 columns</p>\n",
       "</div>"
      ],
      "text/plain": [
       "                                   uuid     source           orig_id  \\\n",
       "0  d39b5e69-6291-46fc-a2f8-5947a7e024ee  Mapillary  1666317524185318   \n",
       "1  07968c89-5a2a-4913-a870-7eaab4830be5  Mapillary  1014949793367409   \n",
       "2  f8be9181-606c-4f23-88c5-2608d6cdea7b  Mapillary  2762100457273030   \n",
       "3  b9929935-7b0c-4c57-aca5-8f01fa37ee8b  Mapillary  1165840751204664   \n",
       "4  c10b66a3-68bd-4dcf-9a86-6b17806e1dfc  Mapillary  1517629215831295   \n",
       "\n",
       "         lat       lon             h3_0             h3_1             h3_2  \\\n",
       "0  48.768944  9.171621  801ffffffffffff  811fbffffffffff  821faffffffffff   \n",
       "1  48.774710  9.172372  801ffffffffffff  811fbffffffffff  821faffffffffff   \n",
       "2  48.769644  9.169775  801ffffffffffff  811fbffffffffff  821faffffffffff   \n",
       "3  48.773321  9.167029  801ffffffffffff  811fbffffffffff  821faffffffffff   \n",
       "4  48.764962  9.168434  801ffffffffffff  811fbffffffffff  821faffffffffff   \n",
       "\n",
       "              h3_3             h3_4  ...             h3_6             h3_7  \\\n",
       "0  831faafffffffff  841faa7ffffffff  ...  861faa7afffffff  871faa7a8ffffff   \n",
       "1  831faafffffffff  841faa7ffffffff  ...  861faa7afffffff  871faa7a8ffffff   \n",
       "2  831faafffffffff  841faa7ffffffff  ...  861faa7afffffff  871faa7a8ffffff   \n",
       "3  831faafffffffff  841faa7ffffffff  ...  861faa7afffffff  871faa7a8ffffff   \n",
       "4  831faafffffffff  841faa7ffffffff  ...  861faa7afffffff  871faa7a8ffffff   \n",
       "\n",
       "              h3_8             h3_9            h3_10            h3_11  \\\n",
       "0  881faa7a87fffff  891faa7a873ffff  8a1faa7a8717fff  8b1faa7a8715fff   \n",
       "1  881faa7a81fffff  891faa7a803ffff  8a1faa7a8007fff  8b1faa7a8000fff   \n",
       "2  881faa7a85fffff  891faa7a847ffff  8a1faa7a846ffff  8b1faa7a846bfff   \n",
       "3  881faa7a81fffff  891faa7a81bffff  8a1faa7a819ffff  8b1faa7a819efff   \n",
       "4  881faa7aabfffff  891faa7aab7ffff  8a1faa7aab67fff  8b1faa7aab63fff   \n",
       "\n",
       "             h3_12            h3_13            h3_14            h3_15  \n",
       "0  8c1faa7a8710bff  8d1faa7a8710b7f  8e1faa7a8710b77  8f1faa7a8710b75  \n",
       "1  8c1faa7a80003ff  8d1faa7a800027f  8e1faa7a8000247  8f1faa7a8000244  \n",
       "2  8c1faa7a846b3ff  8d1faa7a846b3bf  8e1faa7a846b387  8f1faa7a846b380  \n",
       "3  8c1faa7a819e9ff  8d1faa7a819e93f  8e1faa7a819e917  8f1faa7a819e911  \n",
       "4  8c1faa7aab639ff  8d1faa7aab6393f  8e1faa7aab63907  8f1faa7aab63903  \n",
       "\n",
       "[5 rows x 21 columns]"
      ]
     },
     "execution_count": 6,
     "metadata": {},
     "output_type": "execute_result"
    }
   ],
   "source": [
    "from tqdm.auto import tqdm\n",
    "tqdm.pandas()\n",
    "\n",
    "ls_res = [x for x in range(16)]\n",
    "print(ls_res)\n",
    "for res in ls_res:\n",
    "    col = 'h3_' + str(res)\n",
    "    df[col] = df.progress_apply(lambda row: append_h3_str(row, res), axis=1)\n",
    "df.head()"
   ]
  },
  {
   "cell_type": "code",
   "execution_count": 7,
   "id": "a6b6be93-4a75-4a4d-b84c-d556690bd669",
   "metadata": {},
   "outputs": [
    {
     "name": "stdout",
     "output_type": "stream",
     "text": [
      "<class 'pandas.core.frame.DataFrame'>\n",
      "RangeIndex: 2319 entries, 0 to 2318\n",
      "Data columns (total 21 columns):\n",
      " #   Column   Non-Null Count  Dtype  \n",
      "---  ------   --------------  -----  \n",
      " 0   uuid     2319 non-null   object \n",
      " 1   source   2319 non-null   object \n",
      " 2   orig_id  2319 non-null   int64  \n",
      " 3   lat      2319 non-null   float64\n",
      " 4   lon      2319 non-null   float64\n",
      " 5   h3_0     2319 non-null   object \n",
      " 6   h3_1     2319 non-null   object \n",
      " 7   h3_2     2319 non-null   object \n",
      " 8   h3_3     2319 non-null   object \n",
      " 9   h3_4     2319 non-null   object \n",
      " 10  h3_5     2319 non-null   object \n",
      " 11  h3_6     2319 non-null   object \n",
      " 12  h3_7     2319 non-null   object \n",
      " 13  h3_8     2319 non-null   object \n",
      " 14  h3_9     2319 non-null   object \n",
      " 15  h3_10    2319 non-null   object \n",
      " 16  h3_11    2319 non-null   object \n",
      " 17  h3_12    2319 non-null   object \n",
      " 18  h3_13    2319 non-null   object \n",
      " 19  h3_14    2319 non-null   object \n",
      " 20  h3_15    2319 non-null   object \n",
      "dtypes: float64(2), int64(1), object(18)\n",
      "memory usage: 380.6+ KB\n"
     ]
    }
   ],
   "source": [
    "df.info(verbose=True, show_counts=True)"
   ]
  },
  {
   "cell_type": "code",
   "execution_count": 8,
   "id": "766727fc-4838-4f1f-8c83-906f1fb6a1e4",
   "metadata": {},
   "outputs": [],
   "source": [
    "cols = ['uuid',\n",
    " 'source',\n",
    " 'orig_id',\n",
    " 'h3_0',\n",
    " 'h3_1',\n",
    " 'h3_2',\n",
    " 'h3_3',\n",
    " 'h3_4',\n",
    " 'h3_5',\n",
    " 'h3_6',\n",
    " 'h3_7',\n",
    " 'h3_8',\n",
    " 'h3_9',\n",
    " 'h3_10',\n",
    " 'h3_11',\n",
    " 'h3_12',\n",
    " 'h3_13',\n",
    " 'h3_14',\n",
    " 'h3_15']\n",
    "df = df[cols]"
   ]
  },
  {
   "cell_type": "code",
   "execution_count": 9,
   "id": "8c3c9e2f-6353-46dc-9434-c145fa3a40ca",
   "metadata": {},
   "outputs": [
    {
     "name": "stdout",
     "output_type": "stream",
     "text": [
      "<class 'pandas.core.frame.DataFrame'>\n",
      "RangeIndex: 2319 entries, 0 to 2318\n",
      "Data columns (total 19 columns):\n",
      " #   Column   Non-Null Count  Dtype \n",
      "---  ------   --------------  ----- \n",
      " 0   uuid     2319 non-null   object\n",
      " 1   source   2319 non-null   object\n",
      " 2   orig_id  2319 non-null   int64 \n",
      " 3   h3_0     2319 non-null   object\n",
      " 4   h3_1     2319 non-null   object\n",
      " 5   h3_2     2319 non-null   object\n",
      " 6   h3_3     2319 non-null   object\n",
      " 7   h3_4     2319 non-null   object\n",
      " 8   h3_5     2319 non-null   object\n",
      " 9   h3_6     2319 non-null   object\n",
      " 10  h3_7     2319 non-null   object\n",
      " 11  h3_8     2319 non-null   object\n",
      " 12  h3_9     2319 non-null   object\n",
      " 13  h3_10    2319 non-null   object\n",
      " 14  h3_11    2319 non-null   object\n",
      " 15  h3_12    2319 non-null   object\n",
      " 16  h3_13    2319 non-null   object\n",
      " 17  h3_14    2319 non-null   object\n",
      " 18  h3_15    2319 non-null   object\n",
      "dtypes: int64(1), object(18)\n",
      "memory usage: 344.4+ KB\n"
     ]
    }
   ],
   "source": [
    "df.info()"
   ]
  },
  {
   "cell_type": "code",
   "execution_count": 10,
   "id": "59bd72e0-391c-4817-9350-dfbcacf56cff",
   "metadata": {},
   "outputs": [],
   "source": [
    "df.to_csv('./sample_data/07_h3.csv', index=False)"
   ]
  }
 ],
 "metadata": {
  "kernelspec": {
   "display_name": "Python 3 (ipykernel)",
   "language": "python",
   "name": "python3"
  },
  "language_info": {
   "codemirror_mode": {
    "name": "ipython",
    "version": 3
   },
   "file_extension": ".py",
   "mimetype": "text/x-python",
   "name": "python",
   "nbconvert_exporter": "python",
   "pygments_lexer": "ipython3",
   "version": "3.10.1"
  }
 },
 "nbformat": 4,
 "nbformat_minor": 5
}
