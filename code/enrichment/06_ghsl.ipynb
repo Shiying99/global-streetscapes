{
 "cells": [
  {
   "cell_type": "markdown",
   "id": "d0408861-e0ec-4fcc-98dd-5f4795325967",
   "metadata": {},
   "source": [
    "# Append GHSL data"
   ]
  },
  {
   "cell_type": "code",
   "execution_count": 32,
   "id": "74a10f34-0b31-4bfd-a046-fb73630cd883",
   "metadata": {},
   "outputs": [],
   "source": [
    "import pandas as pd\n",
    "import geopandas as gp\n",
    "import os"
   ]
  },
  {
   "cell_type": "code",
   "execution_count": 33,
   "id": "f08c0bc7-8d57-451a-a479-364c764cd6dc",
   "metadata": {},
   "outputs": [
    {
     "name": "stdout",
     "output_type": "stream",
     "text": [
      "<class 'pandas.core.frame.DataFrame'>\n",
      "RangeIndex: 2319 entries, 0 to 2318\n",
      "Data columns (total 5 columns):\n",
      " #   Column   Non-Null Count  Dtype  \n",
      "---  ------   --------------  -----  \n",
      " 0   uuid     2319 non-null   object \n",
      " 1   source   2319 non-null   object \n",
      " 2   orig_id  2319 non-null   int64  \n",
      " 3   lat      2319 non-null   float64\n",
      " 4   lon      2319 non-null   float64\n",
      "dtypes: float64(2), int64(1), object(2)\n",
      "memory usage: 90.7+ KB\n"
     ]
    }
   ],
   "source": [
    "df = pd.read_csv('./sample_data/02_metadata_common_attributes.csv')\n",
    "df = df[['uuid', 'source', 'orig_id', 'lat', 'lon']]\n",
    "df.info(verbose=True, show_counts=True)"
   ]
  },
  {
   "cell_type": "code",
   "execution_count": 34,
   "id": "611053bc-ecad-41b2-8d0d-ed2d4764e1d3",
   "metadata": {},
   "outputs": [
    {
     "name": "stdout",
     "output_type": "stream",
     "text": [
      "Raster width x height: 36082 x 18000\n",
      "Raster affine transform:\n",
      "| 1000.00, 0.00,-18041000.00|\n",
      "| 0.00,-1000.00, 9000000.00|\n",
      "| 0.00, 0.00, 1.00|\n",
      "+proj=moll +lon_0=0 +x_0=0 +y_0=0 +datum=WGS84 +units=m +no_defs=True\n"
     ]
    }
   ],
   "source": [
    "import rasterio\n",
    "from rasterio.features import shapes\n",
    "from rasterio.windows import Window\n",
    "from rasterio.transform import xy\n",
    "\n",
    "raster_filename = './ghsl/GHS_SMOD_P2030_GLOBE_R2022A_54009_1000_V1_0.tif'\n",
    "# visit https://human-settlement.emergency.copernicus.eu/download.php?ds=smod if you wish to download the latest version of GHSL data \n",
    "\n",
    "with rasterio.open(raster_filename, 'r') as src:\n",
    "    T0 = src.transform\n",
    "    nrow = src.height\n",
    "    ncol = src.width\n",
    "    raster = src.read(1)\n",
    "    dst_crs = src.crs.to_proj4()\n",
    "\n",
    "print(f\"Raster width x height: {ncol} x {nrow}\")\n",
    "print(f\"Raster affine transform:\")\n",
    "print(T0)\n",
    "print(dst_crs)"
   ]
  },
  {
   "cell_type": "code",
   "execution_count": 35,
   "id": "d13c5d18-8ed4-4758-ad54-1b7012f7d948",
   "metadata": {},
   "outputs": [],
   "source": [
    "import fiona.transform\n",
    "\n",
    "def reproject_coords(src_crs, dst_crs, xs, ys):\n",
    "    xs2, ys2 = fiona.transform.transform(src_crs, dst_crs, xs, ys)\n",
    "    return [[x,y] for x,y in zip(xs2, ys2)]\n"
   ]
  },
  {
   "cell_type": "code",
   "execution_count": 36,
   "id": "a40458c8-a0cb-4ccd-b477-a91e6fcab5fb",
   "metadata": {
    "tags": []
   },
   "outputs": [
    {
     "name": "stdout",
     "output_type": "stream",
     "text": [
      "CPU times: user 108 ms, sys: 6.49 ms, total: 115 ms\n",
      "Wall time: 112 ms\n"
     ]
    }
   ],
   "source": [
    "%%time\n",
    "\n",
    "xs = df['lon'].tolist()\n",
    "ys = df['lat'].tolist()\n",
    "src_crs = 'EPSG:4326'\n",
    "new_coords = reproject_coords(src_crs, dst_crs, xs, ys)\n",
    "\n",
    "with rasterio.open(raster_filename, 'r') as src:\n",
    "    values = list(rasterio.sample.sample_gen(src, new_coords))"
   ]
  },
  {
   "cell_type": "code",
   "execution_count": 37,
   "id": "0d355b91-2be6-4ecf-88f7-b37763053a0f",
   "metadata": {
    "tags": []
   },
   "outputs": [],
   "source": [
    "values2 = [value[0] for value in values]\n",
    "df_values = pd.DataFrame(values2)"
   ]
  },
  {
   "cell_type": "code",
   "execution_count": 38,
   "id": "55b5877c-1127-41bc-a6cc-0c2b8a82e36f",
   "metadata": {},
   "outputs": [],
   "source": [
    "def urban_code_to_term(value):\n",
    "    if value == 30:\n",
    "        return 'urban centre'\n",
    "    if value == 23:\n",
    "        return 'dense urban cluster'\n",
    "    if value == 22:\n",
    "        return 'semi-dense urban cluster'\n",
    "    if value == 21:\n",
    "        return 'suburban or peri-urban'\n",
    "    if value == 13:\n",
    "        return 'rural cluster'\n",
    "    if value == 12:\n",
    "        return 'low density rural'\n",
    "    if value == 11:\n",
    "        return 'very low density rural'\n",
    "    if value == 10:\n",
    "        return 'water'"
   ]
  },
  {
   "cell_type": "code",
   "execution_count": 39,
   "id": "a0a175e0-e6b4-482a-b8b3-ff5914214fcb",
   "metadata": {},
   "outputs": [
    {
     "data": {
      "application/json": {
       "ascii": false,
       "bar_format": null,
       "colour": null,
       "elapsed": 0.027065038681030273,
       "initial": 0,
       "n": 0,
       "ncols": null,
       "nrows": 34,
       "postfix": null,
       "prefix": "",
       "rate": null,
       "total": 2319,
       "unit": "it",
       "unit_divisor": 1000,
       "unit_scale": false
      },
      "application/vnd.jupyter.widget-view+json": {
       "model_id": "cd893ab624b54ae5b9471461df85ac2f",
       "version_major": 2,
       "version_minor": 0
      },
      "text/plain": [
       "  0%|          | 0/2319 [00:00<?, ?it/s]"
      ]
     },
     "metadata": {},
     "output_type": "display_data"
    },
    {
     "data": {
      "text/html": [
       "<div>\n",
       "<style scoped>\n",
       "    .dataframe tbody tr th:only-of-type {\n",
       "        vertical-align: middle;\n",
       "    }\n",
       "\n",
       "    .dataframe tbody tr th {\n",
       "        vertical-align: top;\n",
       "    }\n",
       "\n",
       "    .dataframe thead th {\n",
       "        text-align: right;\n",
       "    }\n",
       "</style>\n",
       "<table border=\"1\" class=\"dataframe\">\n",
       "  <thead>\n",
       "    <tr style=\"text-align: right;\">\n",
       "      <th></th>\n",
       "      <th>urban_code</th>\n",
       "      <th>urban_term</th>\n",
       "    </tr>\n",
       "  </thead>\n",
       "  <tbody>\n",
       "    <tr>\n",
       "      <th>0</th>\n",
       "      <td>30</td>\n",
       "      <td>urban centre</td>\n",
       "    </tr>\n",
       "    <tr>\n",
       "      <th>1</th>\n",
       "      <td>30</td>\n",
       "      <td>urban centre</td>\n",
       "    </tr>\n",
       "    <tr>\n",
       "      <th>2</th>\n",
       "      <td>30</td>\n",
       "      <td>urban centre</td>\n",
       "    </tr>\n",
       "    <tr>\n",
       "      <th>3</th>\n",
       "      <td>30</td>\n",
       "      <td>urban centre</td>\n",
       "    </tr>\n",
       "    <tr>\n",
       "      <th>4</th>\n",
       "      <td>30</td>\n",
       "      <td>urban centre</td>\n",
       "    </tr>\n",
       "  </tbody>\n",
       "</table>\n",
       "</div>"
      ],
      "text/plain": [
       "   urban_code    urban_term\n",
       "0          30  urban centre\n",
       "1          30  urban centre\n",
       "2          30  urban centre\n",
       "3          30  urban centre\n",
       "4          30  urban centre"
      ]
     },
     "execution_count": 39,
     "metadata": {},
     "output_type": "execute_result"
    }
   ],
   "source": [
    "from tqdm.auto import tqdm\n",
    "tqdm.pandas()\n",
    "df_values = df_values.rename(columns={0: 'urban_code'})\n",
    "df_values['urban_term'] = df_values.progress_apply(lambda row: urban_code_to_term(row['urban_code']), axis=1)\n",
    "df_values.head()"
   ]
  },
  {
   "cell_type": "code",
   "execution_count": 40,
   "id": "dcfcd81d-b13a-4e80-85f2-51f85145fbcc",
   "metadata": {},
   "outputs": [
    {
     "data": {
      "text/plain": [
       "urban_code    False\n",
       "urban_term    False\n",
       "dtype: bool"
      ]
     },
     "execution_count": 40,
     "metadata": {},
     "output_type": "execute_result"
    }
   ],
   "source": [
    "df_values.isnull().any()"
   ]
  },
  {
   "cell_type": "code",
   "execution_count": 41,
   "id": "59008b46-d99b-4c3a-b825-c5ccfbd2f1a6",
   "metadata": {},
   "outputs": [
    {
     "data": {
      "text/plain": [
       "urban centre    2319\n",
       "Name: urban_term, dtype: int64"
      ]
     },
     "execution_count": 41,
     "metadata": {},
     "output_type": "execute_result"
    }
   ],
   "source": [
    "df_values['urban_term'].value_counts()"
   ]
  },
  {
   "cell_type": "code",
   "execution_count": 42,
   "id": "900310cf-5b3d-4f38-9724-ce3ee19dfb1a",
   "metadata": {},
   "outputs": [
    {
     "data": {
      "text/plain": [
       "<AxesSubplot:ylabel='urban_term'>"
      ]
     },
     "execution_count": 42,
     "metadata": {},
     "output_type": "execute_result"
    },
    {
     "data": {
      "image/png": "[encoded data removed]",
      "text/plain": [
       "<Figure size 432x288 with 1 Axes>"
      ]
     },
     "metadata": {},
     "output_type": "display_data"
    }
   ],
   "source": [
    "df_values['urban_term'].value_counts().plot(kind='pie')"
   ]
  },
  {
   "cell_type": "code",
   "execution_count": 43,
   "id": "fbfd4a63-3c50-428b-bd2a-8e402fadb2cd",
   "metadata": {},
   "outputs": [
    {
     "data": {
      "text/plain": [
       "urban centre    100.0%\n",
       "Name: urban_term, dtype: object"
      ]
     },
     "execution_count": 43,
     "metadata": {},
     "output_type": "execute_result"
    }
   ],
   "source": [
    "df_values['urban_term'].value_counts(normalize=True).mul(100).round(1).astype(str) + '%'"
   ]
  },
  {
   "cell_type": "code",
   "execution_count": 44,
   "id": "8fe40243-612d-4355-ad90-84d04ce4ff72",
   "metadata": {},
   "outputs": [
    {
     "name": "stdout",
     "output_type": "stream",
     "text": [
      "<class 'pandas.core.frame.DataFrame'>\n",
      "RangeIndex: 2319 entries, 0 to 2318\n",
      "Data columns (total 5 columns):\n",
      " #   Column      Non-Null Count  Dtype \n",
      "---  ------      --------------  ----- \n",
      " 0   uuid        2319 non-null   object\n",
      " 1   source      2319 non-null   object\n",
      " 2   orig_id     2319 non-null   int64 \n",
      " 3   urban_code  2319 non-null   int16 \n",
      " 4   urban_term  2319 non-null   object\n",
      "dtypes: int16(1), int64(1), object(3)\n",
      "memory usage: 77.1+ KB\n"
     ]
    },
    {
     "name": "stderr",
     "output_type": "stream",
     "text": [
      "/var/folders/q9/ztfc9wt509z8qb3p7wtf4_280000gn/T/ipykernel_21350/2468067593.py:2: SettingWithCopyWarning: \n",
      "A value is trying to be set on a copy of a slice from a DataFrame.\n",
      "Try using .loc[row_indexer,col_indexer] = value instead\n",
      "\n",
      "See the caveats in the documentation: https://pandas.pydata.org/pandas-docs/stable/user_guide/indexing.html#returning-a-view-versus-a-copy\n",
      "  df_ghsl['urban_code'] = df_values['urban_code']\n"
     ]
    }
   ],
   "source": [
    "df_ghsl = df[['uuid', 'source', 'orig_id']]\n",
    "df_ghsl['urban_code'] = df_values['urban_code']\n",
    "df_ghsl['urban_term'] = df_values['urban_term']\n",
    "df_ghsl.info(verbose=True, show_counts=True)"
   ]
  },
  {
   "cell_type": "code",
   "execution_count": 45,
   "id": "d3031683-a42f-4f6e-ac5e-01fa1a0d65f8",
   "metadata": {},
   "outputs": [],
   "source": [
    "df_ghsl.to_csv('./sample_data/06_ghsl.csv', index=False)"
   ]
  }
 ],
 "metadata": {
  "kernelspec": {
   "display_name": "Python 3 (ipykernel)",
   "language": "python",
   "name": "python3"
  },
  "language_info": {
   "codemirror_mode": {
    "name": "ipython",
    "version": 3
   },
   "file_extension": ".py",
   "mimetype": "text/x-python",
   "name": "python",
   "nbconvert_exporter": "python",
   "pygments_lexer": "ipython3",
   "version": "3.10.1"
  }
 },
 "nbformat": 4,
 "nbformat_minor": 5
}
