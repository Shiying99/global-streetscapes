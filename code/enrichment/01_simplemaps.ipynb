{
 "cells": [
  {
   "cell_type": "markdown",
   "id": "296bc831-b262-4df3-a7d5-dba944310108",
   "metadata": {},
   "source": [
    "# Append Simplemaps data and continent"
   ]
  },
  {
   "cell_type": "code",
   "execution_count": 94,
   "id": "58a58d69-732c-4f7f-a33b-8ea8cb13890b",
   "metadata": {},
   "outputs": [],
   "source": [
    "import geopandas as gp\n",
    "import pandas as pd\n",
    "import os"
   ]
  },
  {
   "cell_type": "code",
   "execution_count": 95,
   "id": "77a890bc-e4d9-4bdd-adea-50357c8282c1",
   "metadata": {},
   "outputs": [
    {
     "name": "stdout",
     "output_type": "stream",
     "text": [
      "<class 'pandas.core.frame.DataFrame'>\n",
      "RangeIndex: 2319 entries, 0 to 2318\n",
      "Data columns (total 68 columns):\n",
      " #   Column                      Non-Null Count  Dtype  \n",
      "---  ------                      --------------  -----  \n",
      " 0   mly_captured_at             1892 non-null   float64\n",
      " 1   heading                     2319 non-null   float64\n",
      " 2   mly_creator_id              1892 non-null   float64\n",
      " 3   orig_id                     2319 non-null   int64  \n",
      " 4   mly_is_pano                 1892 non-null   object \n",
      " 5   mly_sequence_id             1892 non-null   object \n",
      " 6   mly_organization_id         0 non-null      float64\n",
      " 7   city_id                     2319 non-null   int64  \n",
      " 8   lat                         2319 non-null   float64\n",
      " 9   lon                         2319 non-null   float64\n",
      " 10  source                      2319 non-null   object \n",
      " 11  kv_autoImgProcessingResult  427 non-null    object \n",
      " 12  kv_autoImgProcessingStatus  427 non-null    object \n",
      " 13  kv_dateAdded                427 non-null    object \n",
      " 14  kv_dateProcessed            427 non-null    object \n",
      " 15  kv_distance                 0 non-null      float64\n",
      " 16  kv_fieldOfView              0 non-null      float64\n",
      " 17  kv_filepath                 427 non-null    object \n",
      " 18  kv_filepathLTh              427 non-null    object \n",
      " 19  kv_filepathProc             427 non-null    object \n",
      " 20  kv_filepathTh               427 non-null    object \n",
      " 21  kv_fileurl                  427 non-null    object \n",
      " 22  kv_fileurlLTh               427 non-null    object \n",
      " 23  kv_fileurlProc              427 non-null    object \n",
      " 24  kv_fileurlTh                427 non-null    object \n",
      " 25  kv_from                     427 non-null    float64\n",
      " 26  kv_gpsAccuracy              0 non-null      float64\n",
      " 27  kv_hasObd                   427 non-null    float64\n",
      " 28  kv_headers                  0 non-null      float64\n",
      " 29  kv_height                   427 non-null    float64\n",
      " 30  kv_imageLthUrl              427 non-null    object \n",
      " 31  kv_imagePartProjection      427 non-null    object \n",
      " 32  kv_imageProcUrl             427 non-null    object \n",
      " 33  kv_imageThUrl               427 non-null    object \n",
      " 34  kv_isUnwrapped              427 non-null    float64\n",
      " 35  kv_isWrapped                427 non-null    float64\n",
      " 36  kv_matchLat                 427 non-null    float64\n",
      " 37  kv_matchLng                 427 non-null    float64\n",
      " 38  kv_matchSegmentId           0 non-null      float64\n",
      " 39  kv_name                     427 non-null    object \n",
      " 40  kv_orgCode                  427 non-null    object \n",
      " 41  kv_projection               427 non-null    object \n",
      " 42  kv_projectionYaw            427 non-null    float64\n",
      " 43  kv_qualityDetails           0 non-null      float64\n",
      " 44  kv_qualityLevel             427 non-null    float64\n",
      " 45  kv_qualityStatus            427 non-null    object \n",
      " 46  kv_rawDataId                0 non-null      float64\n",
      " 47  kv_sequenceId               427 non-null    float64\n",
      " 48  kv_sequenceIndex            427 non-null    float64\n",
      " 49  kv_shotDate                 427 non-null    object \n",
      " 50  kv_status                   427 non-null    object \n",
      " 51  kv_storage                  427 non-null    object \n",
      " 52  kv_to                       427 non-null    float64\n",
      " 53  kv_unwrapVersion            427 non-null    float64\n",
      " 54  kv_user                     427 non-null    object \n",
      " 55  kv_videoId                  0 non-null      float64\n",
      " 56  kv_videoIndex               0 non-null      float64\n",
      " 57  kv_visibility               427 non-null    object \n",
      " 58  kv_wayId                    427 non-null    float64\n",
      " 59  kv_width                    427 non-null    float64\n",
      " 60  kv_wrapVersion              427 non-null    float64\n",
      " 61  kv_address                  427 non-null    object \n",
      " 62  kv_cameraParameters         427 non-null    object \n",
      " 63  kv_countryCode              427 non-null    object \n",
      " 64  kv_deviceName               427 non-null    object \n",
      " 65  kv_distanceSeq              427 non-null    float64\n",
      " 66  kv_sequenceType             0 non-null      float64\n",
      " 67  uuid                        2319 non-null   object \n",
      "dtypes: float64(33), int64(2), object(33)\n",
      "memory usage: 1.2+ MB\n"
     ]
    }
   ],
   "source": [
    "points = pd.read_csv('../raw_download/sample_output/points.csv')\n",
    "points.info()"
   ]
  },
  {
   "cell_type": "code",
   "execution_count": 108,
   "id": "a18f3009-fc09-4c94-9a47-ec6c7deb3539",
   "metadata": {},
   "outputs": [
    {
     "data": {
      "text/html": [
       "<div>\n",
       "<style scoped>\n",
       "    .dataframe tbody tr th:only-of-type {\n",
       "        vertical-align: middle;\n",
       "    }\n",
       "\n",
       "    .dataframe tbody tr th {\n",
       "        vertical-align: top;\n",
       "    }\n",
       "\n",
       "    .dataframe thead th {\n",
       "        text-align: right;\n",
       "    }\n",
       "</style>\n",
       "<table border=\"1\" class=\"dataframe\">\n",
       "  <thead>\n",
       "    <tr style=\"text-align: right;\">\n",
       "      <th></th>\n",
       "      <th>city</th>\n",
       "      <th>city_ascii</th>\n",
       "      <th>city_lat</th>\n",
       "      <th>city_lon</th>\n",
       "      <th>country</th>\n",
       "      <th>iso2</th>\n",
       "      <th>iso3</th>\n",
       "      <th>admin_name</th>\n",
       "      <th>capital</th>\n",
       "      <th>population</th>\n",
       "      <th>city_id</th>\n",
       "    </tr>\n",
       "  </thead>\n",
       "  <tbody>\n",
       "    <tr>\n",
       "      <th>135</th>\n",
       "      <td>Singapore</td>\n",
       "      <td>Singapore</td>\n",
       "      <td>1.3000</td>\n",
       "      <td>103.8000</td>\n",
       "      <td>Singapore</td>\n",
       "      <td>SG</td>\n",
       "      <td>SGP</td>\n",
       "      <td>Central Singapore</td>\n",
       "      <td>primary</td>\n",
       "      <td>5271000.0</td>\n",
       "      <td>1702341327</td>\n",
       "    </tr>\n",
       "    <tr>\n",
       "      <th>1171</th>\n",
       "      <td>Stuttgart</td>\n",
       "      <td>Stuttgart</td>\n",
       "      <td>48.7761</td>\n",
       "      <td>9.1775</td>\n",
       "      <td>Germany</td>\n",
       "      <td>DE</td>\n",
       "      <td>DEU</td>\n",
       "      <td>Baden-Württemberg</td>\n",
       "      <td>admin</td>\n",
       "      <td>630305.0</td>\n",
       "      <td>1276171358</td>\n",
       "    </tr>\n",
       "  </tbody>\n",
       "</table>\n",
       "</div>"
      ],
      "text/plain": [
       "           city city_ascii  city_lat  city_lon    country iso2 iso3  \\\n",
       "135   Singapore  Singapore    1.3000  103.8000  Singapore   SG  SGP   \n",
       "1171  Stuttgart  Stuttgart   48.7761    9.1775    Germany   DE  DEU   \n",
       "\n",
       "             admin_name  capital  population     city_id  \n",
       "135   Central Singapore  primary   5271000.0  1702341327  \n",
       "1171  Baden-Württemberg    admin    630305.0  1276171358  "
      ]
     },
     "execution_count": 108,
     "metadata": {},
     "output_type": "execute_result"
    }
   ],
   "source": [
    "wc = pd.read_csv('../raw_download/data/worldcities.csv').rename(columns={'id':'city_id', 'lat': 'city_lat', 'lng': 'city_lon'})\n",
    "cities = wc[wc['city_id'].isin(points.city_id.unique())]\n",
    "cities"
   ]
  },
  {
   "cell_type": "code",
   "execution_count": 97,
   "id": "4e0c3b14-7ad9-47cc-a046-43a7d29b92fd",
   "metadata": {},
   "outputs": [
    {
     "name": "stdout",
     "output_type": "stream",
     "text": [
      "<class 'geopandas.geodataframe.GeoDataFrame'>\n",
      "Int64Index: 2 entries, 135 to 1171\n",
      "Data columns (total 13 columns):\n",
      " #   Column      Non-Null Count  Dtype   \n",
      "---  ------      --------------  -----   \n",
      " 0   city        2 non-null      object  \n",
      " 1   city_ascii  2 non-null      object  \n",
      " 2   city_lat    2 non-null      float64 \n",
      " 3   city_lon    2 non-null      float64 \n",
      " 4   country     2 non-null      object  \n",
      " 5   iso2        2 non-null      object  \n",
      " 6   iso3        2 non-null      object  \n",
      " 7   admin_name  2 non-null      object  \n",
      " 8   capital     2 non-null      object  \n",
      " 9   population  2 non-null      float64 \n",
      " 10  city_id     2 non-null      int64   \n",
      " 11  geometry    2 non-null      geometry\n",
      " 12  continent   2 non-null      object  \n",
      "dtypes: float64(3), geometry(1), int64(1), object(8)\n",
      "memory usage: 224.0+ bytes\n"
     ]
    }
   ],
   "source": [
    "gdf_cities = gp.GeoDataFrame(\n",
    "    cities, geometry=gp.points_from_xy(cities.city_lon, cities.city_lat), crs=\"EPSG:4326\"\n",
    ")\n",
    "world = gp.read_file(gp.datasets.get_path('naturalearth_lowres'))\n",
    "gdf_cities = gdf_cities.sjoin(world[['continent', 'geometry']], how=\"left\").drop(columns=['index_right'])\n",
    "gdf_cities.info()"
   ]
  },
  {
   "cell_type": "code",
   "execution_count": 98,
   "id": "2c4d63ce-01ea-46f5-a948-bd855faad7fd",
   "metadata": {},
   "outputs": [
    {
     "data": {
      "text/plain": [
       "Asia      1\n",
       "Europe    1\n",
       "Name: continent, dtype: int64"
      ]
     },
     "execution_count": 98,
     "metadata": {},
     "output_type": "execute_result"
    }
   ],
   "source": [
    "gdf_cities.continent.value_counts()"
   ]
  },
  {
   "cell_type": "code",
   "execution_count": 99,
   "id": "dda515b6-0e02-4050-9256-b4d2e373d097",
   "metadata": {},
   "outputs": [],
   "source": [
    "# If there's null value for continent, manually search for the continent of the city, update dict_city_continent accordingly, and run the code below to insert values  \n",
    "# dict_city_continent = {\n",
    "#     # city_id : continent\n",
    "#     # for example,\n",
    "#     # 1360503809: 'Asia'\n",
    "# } \n",
    "# def insert_missing_continent(row):\n",
    "#     if pd.isna(row['continent']):\n",
    "#         city_id = row['city_id']\n",
    "#         return d[city_id]\n",
    "#     else:\n",
    "#         return row['continent']\n",
    "\n",
    "# gdf_cities['continent'] = gdf_cities.apply(lambda x: insert_missing_continent(x), axis=1)\n",
    "# gdf_cities.info()"
   ]
  },
  {
   "cell_type": "code",
   "execution_count": 100,
   "id": "465c163f-1c54-48a7-b549-e366d8ae6c9c",
   "metadata": {},
   "outputs": [
    {
     "name": "stdout",
     "output_type": "stream",
     "text": [
      "<class 'pandas.core.frame.DataFrame'>\n",
      "Int64Index: 2319 entries, 0 to 2318\n",
      "Data columns (total 79 columns):\n",
      " #   Column                      Non-Null Count  Dtype  \n",
      "---  ------                      --------------  -----  \n",
      " 0   mly_captured_at             1892 non-null   float64\n",
      " 1   heading                     2319 non-null   float64\n",
      " 2   mly_creator_id              1892 non-null   float64\n",
      " 3   orig_id                     2319 non-null   int64  \n",
      " 4   mly_is_pano                 1892 non-null   object \n",
      " 5   mly_sequence_id             1892 non-null   object \n",
      " 6   mly_organization_id         0 non-null      float64\n",
      " 7   city_id                     2319 non-null   int64  \n",
      " 8   lat                         2319 non-null   float64\n",
      " 9   lon                         2319 non-null   float64\n",
      " 10  source                      2319 non-null   object \n",
      " 11  kv_autoImgProcessingResult  427 non-null    object \n",
      " 12  kv_autoImgProcessingStatus  427 non-null    object \n",
      " 13  kv_dateAdded                427 non-null    object \n",
      " 14  kv_dateProcessed            427 non-null    object \n",
      " 15  kv_distance                 0 non-null      float64\n",
      " 16  kv_fieldOfView              0 non-null      float64\n",
      " 17  kv_filepath                 427 non-null    object \n",
      " 18  kv_filepathLTh              427 non-null    object \n",
      " 19  kv_filepathProc             427 non-null    object \n",
      " 20  kv_filepathTh               427 non-null    object \n",
      " 21  kv_fileurl                  427 non-null    object \n",
      " 22  kv_fileurlLTh               427 non-null    object \n",
      " 23  kv_fileurlProc              427 non-null    object \n",
      " 24  kv_fileurlTh                427 non-null    object \n",
      " 25  kv_from                     427 non-null    float64\n",
      " 26  kv_gpsAccuracy              0 non-null      float64\n",
      " 27  kv_hasObd                   427 non-null    float64\n",
      " 28  kv_headers                  0 non-null      float64\n",
      " 29  kv_height                   427 non-null    float64\n",
      " 30  kv_imageLthUrl              427 non-null    object \n",
      " 31  kv_imagePartProjection      427 non-null    object \n",
      " 32  kv_imageProcUrl             427 non-null    object \n",
      " 33  kv_imageThUrl               427 non-null    object \n",
      " 34  kv_isUnwrapped              427 non-null    float64\n",
      " 35  kv_isWrapped                427 non-null    float64\n",
      " 36  kv_matchLat                 427 non-null    float64\n",
      " 37  kv_matchLng                 427 non-null    float64\n",
      " 38  kv_matchSegmentId           0 non-null      float64\n",
      " 39  kv_name                     427 non-null    object \n",
      " 40  kv_orgCode                  427 non-null    object \n",
      " 41  kv_projection               427 non-null    object \n",
      " 42  kv_projectionYaw            427 non-null    float64\n",
      " 43  kv_qualityDetails           0 non-null      float64\n",
      " 44  kv_qualityLevel             427 non-null    float64\n",
      " 45  kv_qualityStatus            427 non-null    object \n",
      " 46  kv_rawDataId                0 non-null      float64\n",
      " 47  kv_sequenceId               427 non-null    float64\n",
      " 48  kv_sequenceIndex            427 non-null    float64\n",
      " 49  kv_shotDate                 427 non-null    object \n",
      " 50  kv_status                   427 non-null    object \n",
      " 51  kv_storage                  427 non-null    object \n",
      " 52  kv_to                       427 non-null    float64\n",
      " 53  kv_unwrapVersion            427 non-null    float64\n",
      " 54  kv_user                     427 non-null    object \n",
      " 55  kv_videoId                  0 non-null      float64\n",
      " 56  kv_videoIndex               0 non-null      float64\n",
      " 57  kv_visibility               427 non-null    object \n",
      " 58  kv_wayId                    427 non-null    float64\n",
      " 59  kv_width                    427 non-null    float64\n",
      " 60  kv_wrapVersion              427 non-null    float64\n",
      " 61  kv_address                  427 non-null    object \n",
      " 62  kv_cameraParameters         427 non-null    object \n",
      " 63  kv_countryCode              427 non-null    object \n",
      " 64  kv_deviceName               427 non-null    object \n",
      " 65  kv_distanceSeq              427 non-null    float64\n",
      " 66  kv_sequenceType             0 non-null      float64\n",
      " 67  uuid                        2319 non-null   object \n",
      " 68  city                        2319 non-null   object \n",
      " 69  city_ascii                  2319 non-null   object \n",
      " 70  city_lat                    2319 non-null   float64\n",
      " 71  city_lon                    2319 non-null   float64\n",
      " 72  country                     2319 non-null   object \n",
      " 73  iso2                        2319 non-null   object \n",
      " 74  iso3                        2319 non-null   object \n",
      " 75  admin_name                  2319 non-null   object \n",
      " 76  capital                     2319 non-null   object \n",
      " 77  population                  2319 non-null   float64\n",
      " 78  continent                   2319 non-null   object \n",
      "dtypes: float64(36), int64(2), object(41)\n",
      "memory usage: 1.4+ MB\n"
     ]
    }
   ],
   "source": [
    "sm = points.merge(gdf_cities.drop(columns=['geometry']), on='city_id', how='left')\n",
    "sm.info()"
   ]
  },
  {
   "cell_type": "code",
   "execution_count": 101,
   "id": "0890eba3-a588-404a-b506-5470fa125f49",
   "metadata": {},
   "outputs": [
    {
     "data": {
      "text/plain": [
       "Europe    1725\n",
       "Asia       594\n",
       "Name: continent, dtype: int64"
      ]
     },
     "execution_count": 101,
     "metadata": {},
     "output_type": "execute_result"
    }
   ],
   "source": [
    "sm.continent.value_counts()"
   ]
  },
  {
   "cell_type": "code",
   "execution_count": 102,
   "id": "9250a7a5-e92d-4428-b4e8-ac9a48c8f47a",
   "metadata": {},
   "outputs": [
    {
     "name": "stdout",
     "output_type": "stream",
     "text": [
      "<class 'pandas.core.frame.DataFrame'>\n",
      "Int64Index: 2319 entries, 0 to 2318\n",
      "Data columns (total 15 columns):\n",
      " #   Column      Non-Null Count  Dtype  \n",
      "---  ------      --------------  -----  \n",
      " 0   uuid        2319 non-null   object \n",
      " 1   source      2319 non-null   object \n",
      " 2   orig_id     2319 non-null   int64  \n",
      " 3   city        2319 non-null   object \n",
      " 4   city_ascii  2319 non-null   object \n",
      " 5   city_id     2319 non-null   int64  \n",
      " 6   city_lat    2319 non-null   float64\n",
      " 7   city_lon    2319 non-null   float64\n",
      " 8   country     2319 non-null   object \n",
      " 9   iso2        2319 non-null   object \n",
      " 10  iso3        2319 non-null   object \n",
      " 11  admin_name  2319 non-null   object \n",
      " 12  capital     2319 non-null   object \n",
      " 13  population  2319 non-null   float64\n",
      " 14  continent   2319 non-null   object \n",
      "dtypes: float64(3), int64(2), object(10)\n",
      "memory usage: 289.9+ KB\n"
     ]
    }
   ],
   "source": [
    "cols = ['uuid',\n",
    " 'source',\n",
    " 'orig_id',\n",
    " 'city',\n",
    " 'city_ascii',\n",
    " 'city_id',\n",
    " 'city_lat',\n",
    " 'city_lon',\n",
    " 'country',\n",
    " 'iso2',\n",
    " 'iso3',\n",
    " 'admin_name',\n",
    " 'capital',\n",
    " 'population',\n",
    " 'continent']\n",
    "sm = sm[cols]\n",
    "sm.info(verbose=True, show_counts=True)"
   ]
  },
  {
   "cell_type": "code",
   "execution_count": 103,
   "id": "0c19c9d7-be4d-4d94-a7c0-3444dc0318ba",
   "metadata": {},
   "outputs": [],
   "source": [
    "sm.to_csv('./sample_data/01_simplemaps.csv', index=False)"
   ]
  },
  {
   "cell_type": "markdown",
   "id": "a9500a7b-5612-4050-a3d1-2a26f0d1aef0",
   "metadata": {},
   "source": [
    "# Calculate image count per city"
   ]
  },
  {
   "cell_type": "code",
   "execution_count": 104,
   "id": "9678fdcb-2f71-4b33-bb5b-df7ba9435eae",
   "metadata": {},
   "outputs": [
    {
     "data": {
      "text/plain": [
       "2"
      ]
     },
     "execution_count": 104,
     "metadata": {},
     "output_type": "execute_result"
    }
   ],
   "source": [
    "sm.city_id.nunique()"
   ]
  },
  {
   "cell_type": "code",
   "execution_count": 109,
   "id": "216decf7-205e-45ad-8dff-cd799be7ae21",
   "metadata": {},
   "outputs": [
    {
     "data": {
      "text/html": [
       "<div>\n",
       "<style scoped>\n",
       "    .dataframe tbody tr th:only-of-type {\n",
       "        vertical-align: middle;\n",
       "    }\n",
       "\n",
       "    .dataframe tbody tr th {\n",
       "        vertical-align: top;\n",
       "    }\n",
       "\n",
       "    .dataframe thead th {\n",
       "        text-align: right;\n",
       "    }\n",
       "</style>\n",
       "<table border=\"1\" class=\"dataframe\">\n",
       "  <thead>\n",
       "    <tr style=\"text-align: right;\">\n",
       "      <th></th>\n",
       "      <th>city</th>\n",
       "      <th>city_ascii</th>\n",
       "      <th>city_lat</th>\n",
       "      <th>city_lon</th>\n",
       "      <th>country</th>\n",
       "      <th>iso2</th>\n",
       "      <th>iso3</th>\n",
       "      <th>admin_name</th>\n",
       "      <th>capital</th>\n",
       "      <th>population</th>\n",
       "      <th>city_id</th>\n",
       "      <th>img_count</th>\n",
       "    </tr>\n",
       "  </thead>\n",
       "  <tbody>\n",
       "    <tr>\n",
       "      <th>0</th>\n",
       "      <td>Singapore</td>\n",
       "      <td>Singapore</td>\n",
       "      <td>1.3000</td>\n",
       "      <td>103.8000</td>\n",
       "      <td>Singapore</td>\n",
       "      <td>SG</td>\n",
       "      <td>SGP</td>\n",
       "      <td>Central Singapore</td>\n",
       "      <td>primary</td>\n",
       "      <td>5271000.0</td>\n",
       "      <td>1702341327</td>\n",
       "      <td>594</td>\n",
       "    </tr>\n",
       "    <tr>\n",
       "      <th>1</th>\n",
       "      <td>Stuttgart</td>\n",
       "      <td>Stuttgart</td>\n",
       "      <td>48.7761</td>\n",
       "      <td>9.1775</td>\n",
       "      <td>Germany</td>\n",
       "      <td>DE</td>\n",
       "      <td>DEU</td>\n",
       "      <td>Baden-Württemberg</td>\n",
       "      <td>admin</td>\n",
       "      <td>630305.0</td>\n",
       "      <td>1276171358</td>\n",
       "      <td>1725</td>\n",
       "    </tr>\n",
       "  </tbody>\n",
       "</table>\n",
       "</div>"
      ],
      "text/plain": [
       "        city city_ascii  city_lat  city_lon    country iso2 iso3  \\\n",
       "0  Singapore  Singapore    1.3000  103.8000  Singapore   SG  SGP   \n",
       "1  Stuttgart  Stuttgart   48.7761    9.1775    Germany   DE  DEU   \n",
       "\n",
       "          admin_name  capital  population     city_id  img_count  \n",
       "0  Central Singapore  primary   5271000.0  1702341327        594  \n",
       "1  Baden-Württemberg    admin    630305.0  1276171358       1725  "
      ]
     },
     "execution_count": 109,
     "metadata": {},
     "output_type": "execute_result"
    }
   ],
   "source": [
    "imgcnt = sm.groupby('city_id').uuid.count().reset_index().rename(columns={'uuid': 'img_count'})\n",
    "cities = cities.merge(imgcnt, on='city_id', how='left')\n",
    "cities"
   ]
  },
  {
   "cell_type": "code",
   "execution_count": 111,
   "id": "c5353e02-97cb-4c86-9759-fa2596e4c6ff",
   "metadata": {},
   "outputs": [],
   "source": [
    "cities.drop(columns=['geometry']).to_csv('./sample_data/cities.csv', index=False)"
   ]
  }
 ],
 "metadata": {
  "kernelspec": {
   "display_name": "Python 3 (ipykernel)",
   "language": "python",
   "name": "python3"
  },
  "language_info": {
   "codemirror_mode": {
    "name": "ipython",
    "version": 3
   },
   "file_extension": ".py",
   "mimetype": "text/x-python",
   "name": "python",
   "nbconvert_exporter": "python",
   "pygments_lexer": "ipython3",
   "version": "3.10.1"
  }
 },
 "nbformat": 4,
 "nbformat_minor": 5
}
