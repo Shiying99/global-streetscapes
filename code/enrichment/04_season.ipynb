{
 "cells": [
  {
   "cell_type": "markdown",
   "id": "7f5f3ed7-8373-4fc0-b94f-476158fbe0b1",
   "metadata": {},
   "source": [
    "# Append season"
   ]
  },
  {
   "cell_type": "code",
   "execution_count": 1,
   "id": "8d45780b-74a6-419d-bc9d-147593bc1e5a",
   "metadata": {},
   "outputs": [],
   "source": [
    "import pandas as pd\n",
    "import geopandas as gp\n",
    "import os"
   ]
  },
  {
   "cell_type": "code",
   "execution_count": 8,
   "id": "1e6e19f5-4496-40c1-9ade-c0e47d3222bf",
   "metadata": {},
   "outputs": [
    {
     "name": "stdout",
     "output_type": "stream",
     "text": [
      "<class 'pandas.core.frame.DataFrame'>\n",
      "RangeIndex: 2319 entries, 0 to 2318\n",
      "Data columns (total 6 columns):\n",
      " #   Column   Non-Null Count  Dtype  \n",
      "---  ------   --------------  -----  \n",
      " 0   uuid     2319 non-null   object \n",
      " 1   source   2319 non-null   object \n",
      " 2   orig_id  2319 non-null   int64  \n",
      " 3   lat      2319 non-null   float64\n",
      " 4   lon      2319 non-null   float64\n",
      " 5   month    2319 non-null   int64  \n",
      "dtypes: float64(2), int64(2), object(2)\n",
      "memory usage: 108.8+ KB\n"
     ]
    }
   ],
   "source": [
    "cols = ['uuid', 'source', 'orig_id', 'lat', 'lon', 'month']\n",
    "df = pd.read_csv('./sample_data/02_metadata_common_attributes.csv')[cols]\n",
    "df.info()"
   ]
  },
  {
   "cell_type": "code",
   "execution_count": 9,
   "id": "aa0f657d-b815-43e6-85ec-a359268e8b8e",
   "metadata": {},
   "outputs": [
    {
     "data": {
      "application/json": {
       "ascii": false,
       "bar_format": null,
       "colour": null,
       "elapsed": 0.027064800262451172,
       "initial": 0,
       "n": 0,
       "ncols": null,
       "nrows": 34,
       "postfix": null,
       "prefix": "",
       "rate": null,
       "total": 2319,
       "unit": "it",
       "unit_divisor": 1000,
       "unit_scale": false
      },
      "application/vnd.jupyter.widget-view+json": {
       "model_id": "c5e22343d9f74aa1bb95ae13aa9d3337",
       "version_major": 2,
       "version_minor": 0
      },
      "text/plain": [
       "  0%|          | 0/2319 [00:00<?, ?it/s]"
      ]
     },
     "metadata": {},
     "output_type": "display_data"
    },
    {
     "data": {
      "text/plain": [
       "Summer    2319\n",
       "Name: season, dtype: int64"
      ]
     },
     "execution_count": 9,
     "metadata": {},
     "output_type": "execute_result"
    }
   ],
   "source": [
    "# assign seasons\n",
    "import datetime\n",
    "from tqdm.auto import tqdm\n",
    "tqdm.pandas()\n",
    "\n",
    "season_month_north = {\n",
    "            12:'Winter', 1:'Winter', 2:'Winter',\n",
    "            3:'Spring', 4:'Spring', 5:'Spring',\n",
    "            6:'Summer', 7:'Summer', 8:'Summer',\n",
    "            9:'Autumn', 10:'Autumn', 11:'Autumn'\n",
    "}\n",
    "\n",
    "season_month_south = {\n",
    "            12:'Summer', 1:'Summer', 2:'Summer',\n",
    "            3:'Autumn', 4:'Autumn', 5:'Autumn',\n",
    "            6:'Winter', 7:'Winter', 8:'Winter',\n",
    "            9:'Spring', 10:'Spring', 11:'Spring'\n",
    "}\n",
    "        \n",
    "def datetime_to_season(row):\n",
    "    month = row['month']\n",
    "    if row['lat'] >= 0:\n",
    "        return season_month_north[month]\n",
    "    else:\n",
    "        return season_month_south[month]\n",
    "\n",
    "df['season'] = df.progress_apply(lambda row: datetime_to_season(row), axis=1)\n",
    "df.season.value_counts()"
   ]
  },
  {
   "cell_type": "code",
   "execution_count": 10,
   "id": "26413316-4d70-4014-9891-9ba66c780629",
   "metadata": {},
   "outputs": [
    {
     "name": "stdout",
     "output_type": "stream",
     "text": [
      "<class 'pandas.core.frame.DataFrame'>\n",
      "Int64Index: 2319 entries, 0 to 2318\n",
      "Data columns (total 10 columns):\n",
      " #   Column              Non-Null Count  Dtype  \n",
      "---  ------              --------------  -----  \n",
      " 0   uuid                2319 non-null   object \n",
      " 1   source              2319 non-null   object \n",
      " 2   orig_id             2319 non-null   int64  \n",
      " 3   lat                 2319 non-null   float64\n",
      " 4   lon                 2319 non-null   float64\n",
      " 5   month               2319 non-null   int64  \n",
      " 6   season              2319 non-null   object \n",
      " 7   city_id             2319 non-null   int64  \n",
      " 8   koppen_geiger_zone  2319 non-null   object \n",
      " 9   zone_description    2319 non-null   object \n",
      "dtypes: float64(2), int64(3), object(5)\n",
      "memory usage: 199.3+ KB\n"
     ]
    }
   ],
   "source": [
    "cols = ['uuid', 'city_id']\n",
    "sm = pd.read_csv('./sample_data/01_simplemaps.csv')[cols]\n",
    "df = df.merge(sm, on='uuid', how='left')\n",
    "cols = ['city_id', 'koppen_geiger_zone', 'zone_description']\n",
    "climate = pd.read_csv('./sample_data/cities.csv')[cols]\n",
    "df = df.merge(climate, on='city_id', how='left')\n",
    "df.info()"
   ]
  },
  {
   "cell_type": "markdown",
   "id": "50bbfc79-c647-45f8-b788-df6557073ae5",
   "metadata": {},
   "source": [
    "## Modify season based on climate zone"
   ]
  },
  {
   "cell_type": "code",
   "execution_count": 11,
   "id": "fcc7a5be-b35f-4cf6-ad18-bb29fd33d178",
   "metadata": {},
   "outputs": [
    {
     "data": {
      "application/json": {
       "ascii": false,
       "bar_format": null,
       "colour": null,
       "elapsed": 0.028815269470214844,
       "initial": 0,
       "n": 0,
       "ncols": null,
       "nrows": 34,
       "postfix": null,
       "prefix": "",
       "rate": null,
       "total": 2319,
       "unit": "it",
       "unit_divisor": 1000,
       "unit_scale": false
      },
      "application/vnd.jupyter.widget-view+json": {
       "model_id": "318e58b61d1c45ce9f3a1239f7aecf89",
       "version_major": 2,
       "version_minor": 0
      },
      "text/plain": [
       "  0%|          | 0/2319 [00:00<?, ?it/s]"
      ]
     },
     "metadata": {},
     "output_type": "display_data"
    }
   ],
   "source": [
    "from tqdm.auto import tqdm\n",
    "tqdm.pandas()\n",
    "\n",
    "def modify_season(row):\n",
    "    zone = row['zone_description']\n",
    "    if 'Tropical' in zone:\n",
    "        return 'Tropical'\n",
    "    elif ' tropical ' in zone:\n",
    "        return 'Tropical'\n",
    "    else:\n",
    "        return row['season']\n",
    "\n",
    "df['season'] = df.progress_apply(lambda row: modify_season(row), axis=1)"
   ]
  },
  {
   "cell_type": "code",
   "execution_count": 12,
   "id": "dd5dc92a-f6b7-40ca-8493-131f8c293168",
   "metadata": {},
   "outputs": [
    {
     "data": {
      "text/plain": [
       "Summer      1725\n",
       "Tropical     594\n",
       "Name: season, dtype: int64"
      ]
     },
     "execution_count": 12,
     "metadata": {},
     "output_type": "execute_result"
    }
   ],
   "source": [
    "df.season.value_counts()"
   ]
  },
  {
   "cell_type": "code",
   "execution_count": 13,
   "id": "f7419e39-da38-4a93-8fbc-eceb0841cd18",
   "metadata": {},
   "outputs": [
    {
     "data": {
      "text/plain": [
       "<AxesSubplot:>"
      ]
     },
     "execution_count": 13,
     "metadata": {},
     "output_type": "execute_result"
    },
    {
     "data": {
      "image/png": "[encoded data removed]",
      "text/plain": [
       "<Figure size 432x288 with 1 Axes>"
      ]
     },
     "metadata": {
      "needs_background": "light"
     },
     "output_type": "display_data"
    }
   ],
   "source": [
    "df.season.hist()"
   ]
  },
  {
   "cell_type": "code",
   "execution_count": 15,
   "id": "5f2a7ad3-dbd2-433b-a39a-b2ba4662ef98",
   "metadata": {},
   "outputs": [
    {
     "name": "stdout",
     "output_type": "stream",
     "text": [
      "<class 'pandas.core.frame.DataFrame'>\n",
      "Int64Index: 2319 entries, 0 to 2318\n",
      "Data columns (total 4 columns):\n",
      " #   Column   Non-Null Count  Dtype \n",
      "---  ------   --------------  ----- \n",
      " 0   uuid     2319 non-null   object\n",
      " 1   source   2319 non-null   object\n",
      " 2   orig_id  2319 non-null   int64 \n",
      " 3   season   2319 non-null   object\n",
      "dtypes: int64(1), object(3)\n",
      "memory usage: 90.6+ KB\n"
     ]
    }
   ],
   "source": [
    "cols = ['uuid', 'source', 'orig_id', 'season']\n",
    "df = df[cols]\n",
    "df.info()"
   ]
  },
  {
   "cell_type": "code",
   "execution_count": 16,
   "id": "4690c0cf-2790-4642-b8f7-fcab973648f4",
   "metadata": {},
   "outputs": [],
   "source": [
    "df.to_csv('./sample_data/04_season.csv', index=False)"
   ]
  }
 ],
 "metadata": {
  "kernelspec": {
   "display_name": "Python 3 (ipykernel)",
   "language": "python",
   "name": "python3"
  },
  "language_info": {
   "codemirror_mode": {
    "name": "ipython",
    "version": 3
   },
   "file_extension": ".py",
   "mimetype": "text/x-python",
   "name": "python",
   "nbconvert_exporter": "python",
   "pygments_lexer": "ipython3",
   "version": "3.10.1"
  }
 },
 "nbformat": 4,
 "nbformat_minor": 5
}
