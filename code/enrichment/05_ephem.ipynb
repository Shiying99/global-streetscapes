{
 "cells": [
  {
   "cell_type": "markdown",
   "id": "24678892-04d3-420f-850e-2343c093a0e4",
   "metadata": {
    "tags": []
   },
   "source": [
    "# Append information calculated using PyEphem"
   ]
  },
  {
   "cell_type": "code",
   "execution_count": 1,
   "id": "31889944-7293-4848-884e-dcbf7917feb7",
   "metadata": {},
   "outputs": [],
   "source": [
    "import pandas as pd\n",
    "import geopandas as gp\n",
    "import os\n",
    "import datetime\n",
    "import ephem\n",
    "from tqdm import tqdm\n",
    "import pytz"
   ]
  },
  {
   "cell_type": "markdown",
   "id": "ffcf8d16-a671-42d0-b607-d7a568a2e49c",
   "metadata": {},
   "source": [
    "## Calculate day / night"
   ]
  },
  {
   "cell_type": "code",
   "execution_count": 6,
   "id": "8a7251b0-bf99-4843-9ca2-e4c851bead71",
   "metadata": {},
   "outputs": [
    {
     "name": "stdout",
     "output_type": "stream",
     "text": [
      "<class 'pandas.core.frame.DataFrame'>\n",
      "Int64Index: 2319 entries, 0 to 2318\n",
      "Data columns (total 11 columns):\n",
      " #   Column           Non-Null Count  Dtype  \n",
      "---  ------           --------------  -----  \n",
      " 0   uuid             2319 non-null   object \n",
      " 1   source           2319 non-null   object \n",
      " 2   orig_id          2319 non-null   int64  \n",
      " 3   mly_captured_at  1892 non-null   float64\n",
      " 4   kv_shotDate      427 non-null    object \n",
      " 5   city_id          2319 non-null   int64  \n",
      " 6   lat              2319 non-null   float64\n",
      " 7   lon              2319 non-null   float64\n",
      " 8   season           2319 non-null   object \n",
      " 9   timezone         2319 non-null   object \n",
      " 10  utc_offset_s     2319 non-null   float64\n",
      "dtypes: float64(4), int64(2), object(5)\n",
      "memory usage: 217.4+ KB\n"
     ]
    }
   ],
   "source": [
    "df = pd.read_csv('../raw_download/sample_output/points.csv')[['uuid', 'source', 'orig_id', 'mly_captured_at', 'kv_shotDate', 'city_id']]\n",
    "meta = pd.read_csv('./sample_data/02_metadata_common_attributes.csv')[['uuid', 'lat', 'lon']]\n",
    "season = pd.read_csv('./sample_data/04_season.csv')[['uuid', 'season']]\n",
    "cities = pd.read_csv('./sample_data/cities.csv')[['city_id', 'timezone', 'utc_offset_s']]\n",
    "df = df.merge(meta, on='uuid', how='left').merge(season, on='uuid', how='left').merge(cities, on='city_id', how='left')\n",
    "df.info()"
   ]
  },
  {
   "cell_type": "code",
   "execution_count": 7,
   "id": "e551f9c2-bc98-4959-b2ee-f2701c4cb182",
   "metadata": {},
   "outputs": [
    {
     "name": "stderr",
     "output_type": "stream",
     "text": [
      "2319it [00:00, 8374.57it/s]\n"
     ]
    }
   ],
   "source": [
    "dn = {}\n",
    "errors = []\n",
    "for _, row in tqdm(df.iterrows()):\n",
    "    obs = ephem.Observer()\n",
    "    obs.pressure = 0\n",
    "    obs.horizon = '-0:34'\n",
    "    #PyEphem takes and returns only UTC times so cannot use local_datetime\n",
    "    obs.date = row['kv_shotDate']\n",
    "    if row['source'] == 'Mapillary':\n",
    "        dt = datetime.datetime.fromtimestamp(row['mly_captured_at']/1000).astimezone(pytz.utc)\n",
    "        dt_str = dt.strftime(\"%Y-%m-%d %H:%M:%S\")\n",
    "        obs.date = dt_str\n",
    "    obs.lon = str(row['lon']) #Note that lon should be in string format\n",
    "    obs.lat = str(row['lat']) #Note that lat should be in string format\n",
    "    uuid = row['uuid']\n",
    "    try:\n",
    "        prev_sunrise = obs.previous_rising(ephem.Sun()) #Sunrise\n",
    "        prev_sunset =obs.previous_setting(ephem.Sun()) #Sunset\n",
    "        if prev_sunrise > prev_sunset:\n",
    "            dn[uuid] = ['day']\n",
    "        else:\n",
    "            dn[uuid] = ['night']\n",
    "    except Exception:\n",
    "        if row['season'] in ['Spring', 'Summer']:\n",
    "            dn[uuid] = ['polar day']\n",
    "            print('Something went wrong. Sun is above the horizon at the sunset time. Maybe polar day.')\n",
    "            print(uuid)\n",
    "            errors.append(uuid)\n",
    "        else:\n",
    "            dn[uuid] = ['polar night']    \n",
    "            print('Something went wrong. Sun is below the horizon at the sunrise time. Maybe polar night.')\n",
    "            print(uuid)\n",
    "            errors.append(uuid)\n",
    "        "
   ]
  },
  {
   "cell_type": "code",
   "execution_count": 8,
   "id": "79f093b3-8b76-47ca-a3fc-c6af8940802a",
   "metadata": {},
   "outputs": [
    {
     "data": {
      "text/html": [
       "<div>\n",
       "<style scoped>\n",
       "    .dataframe tbody tr th:only-of-type {\n",
       "        vertical-align: middle;\n",
       "    }\n",
       "\n",
       "    .dataframe tbody tr th {\n",
       "        vertical-align: top;\n",
       "    }\n",
       "\n",
       "    .dataframe thead th {\n",
       "        text-align: right;\n",
       "    }\n",
       "</style>\n",
       "<table border=\"1\" class=\"dataframe\">\n",
       "  <thead>\n",
       "    <tr style=\"text-align: right;\">\n",
       "      <th></th>\n",
       "      <th>calculated_day_night</th>\n",
       "    </tr>\n",
       "  </thead>\n",
       "  <tbody>\n",
       "    <tr>\n",
       "      <th>d39b5e69-6291-46fc-a2f8-5947a7e024ee</th>\n",
       "      <td>night</td>\n",
       "    </tr>\n",
       "    <tr>\n",
       "      <th>07968c89-5a2a-4913-a870-7eaab4830be5</th>\n",
       "      <td>night</td>\n",
       "    </tr>\n",
       "    <tr>\n",
       "      <th>f8be9181-606c-4f23-88c5-2608d6cdea7b</th>\n",
       "      <td>night</td>\n",
       "    </tr>\n",
       "    <tr>\n",
       "      <th>b9929935-7b0c-4c57-aca5-8f01fa37ee8b</th>\n",
       "      <td>night</td>\n",
       "    </tr>\n",
       "    <tr>\n",
       "      <th>c10b66a3-68bd-4dcf-9a86-6b17806e1dfc</th>\n",
       "      <td>night</td>\n",
       "    </tr>\n",
       "    <tr>\n",
       "      <th>...</th>\n",
       "      <td>...</td>\n",
       "    </tr>\n",
       "    <tr>\n",
       "      <th>1fdf37e0-370b-4f02-8709-e7367b2b9c3d</th>\n",
       "      <td>day</td>\n",
       "    </tr>\n",
       "    <tr>\n",
       "      <th>814f55a2-f98d-4c35-92c6-059e46552534</th>\n",
       "      <td>day</td>\n",
       "    </tr>\n",
       "    <tr>\n",
       "      <th>cb644dac-f4e4-479e-95dc-1f317e01959d</th>\n",
       "      <td>day</td>\n",
       "    </tr>\n",
       "    <tr>\n",
       "      <th>5f5ea4fe-a666-43cb-9b47-8684149ccf35</th>\n",
       "      <td>day</td>\n",
       "    </tr>\n",
       "    <tr>\n",
       "      <th>8b4ca703-2985-4c35-b201-0225e3f81bae</th>\n",
       "      <td>day</td>\n",
       "    </tr>\n",
       "  </tbody>\n",
       "</table>\n",
       "<p>2319 rows × 1 columns</p>\n",
       "</div>"
      ],
      "text/plain": [
       "                                     calculated_day_night\n",
       "d39b5e69-6291-46fc-a2f8-5947a7e024ee                night\n",
       "07968c89-5a2a-4913-a870-7eaab4830be5                night\n",
       "f8be9181-606c-4f23-88c5-2608d6cdea7b                night\n",
       "b9929935-7b0c-4c57-aca5-8f01fa37ee8b                night\n",
       "c10b66a3-68bd-4dcf-9a86-6b17806e1dfc                night\n",
       "...                                                   ...\n",
       "1fdf37e0-370b-4f02-8709-e7367b2b9c3d                  day\n",
       "814f55a2-f98d-4c35-92c6-059e46552534                  day\n",
       "cb644dac-f4e4-479e-95dc-1f317e01959d                  day\n",
       "5f5ea4fe-a666-43cb-9b47-8684149ccf35                  day\n",
       "8b4ca703-2985-4c35-b201-0225e3f81bae                  day\n",
       "\n",
       "[2319 rows x 1 columns]"
      ]
     },
     "execution_count": 8,
     "metadata": {},
     "output_type": "execute_result"
    }
   ],
   "source": [
    "df_dn = pd.DataFrame.from_dict(dn, orient='index').rename(columns={0:'calculated_day_night'})\n",
    "df_dn"
   ]
  },
  {
   "cell_type": "code",
   "execution_count": 9,
   "id": "555469d4-b334-4412-a7fa-778c264f0cf0",
   "metadata": {},
   "outputs": [
    {
     "data": {
      "text/plain": [
       "[]"
      ]
     },
     "execution_count": 9,
     "metadata": {},
     "output_type": "execute_result"
    }
   ],
   "source": [
    "errors"
   ]
  },
  {
   "cell_type": "code",
   "execution_count": 10,
   "id": "97c57bec-b815-4439-b187-be59fe829239",
   "metadata": {},
   "outputs": [
    {
     "name": "stdout",
     "output_type": "stream",
     "text": [
      "<class 'pandas.core.frame.DataFrame'>\n",
      "Int64Index: 2319 entries, 0 to 2318\n",
      "Data columns (total 12 columns):\n",
      " #   Column                Non-Null Count  Dtype  \n",
      "---  ------                --------------  -----  \n",
      " 0   uuid                  2319 non-null   object \n",
      " 1   source                2319 non-null   object \n",
      " 2   orig_id               2319 non-null   int64  \n",
      " 3   mly_captured_at       1892 non-null   float64\n",
      " 4   kv_shotDate           427 non-null    object \n",
      " 5   city_id               2319 non-null   int64  \n",
      " 6   lat                   2319 non-null   float64\n",
      " 7   lon                   2319 non-null   float64\n",
      " 8   season                2319 non-null   object \n",
      " 9   timezone              2319 non-null   object \n",
      " 10  utc_offset_s          2319 non-null   float64\n",
      " 11  calculated_day_night  2319 non-null   object \n",
      "dtypes: float64(4), int64(2), object(6)\n",
      "memory usage: 235.5+ KB\n"
     ]
    }
   ],
   "source": [
    "df = df.join(df_dn, on='uuid', how='left')\n",
    "df.info(verbose=True, show_counts=True)"
   ]
  },
  {
   "cell_type": "code",
   "execution_count": 11,
   "id": "32d44af7-3d1d-4a32-aa24-1e52e888310d",
   "metadata": {},
   "outputs": [
    {
     "data": {
      "text/plain": [
       "day      1448\n",
       "night     871\n",
       "Name: calculated_day_night, dtype: int64"
      ]
     },
     "execution_count": 11,
     "metadata": {},
     "output_type": "execute_result"
    }
   ],
   "source": [
    "df.calculated_day_night.value_counts()"
   ]
  },
  {
   "cell_type": "markdown",
   "id": "0dfd9e74-da49-4ca5-9a59-37fac1bce20f",
   "metadata": {},
   "source": [
    "## Calculate hours relative to sunrise/sunset"
   ]
  },
  {
   "cell_type": "code",
   "execution_count": 12,
   "id": "d9b3301b-098d-4bbb-b489-82bb3ea322e4",
   "metadata": {},
   "outputs": [
    {
     "name": "stderr",
     "output_type": "stream",
     "text": [
      "2319it [00:00, 8399.13it/s]\n"
     ]
    }
   ],
   "source": [
    "import numpy as np\n",
    "hrs = {\n",
    "    'uuid': [],\n",
    "    'hrs_aft_sunrise': [],\n",
    "    'hrs_aft_sunset': []\n",
    "}\n",
    "errors = []\n",
    "for _, row in tqdm(df.iterrows()):\n",
    "    obs = ephem.Observer()\n",
    "    obs.pressure = 0\n",
    "    obs.horizon = '-0:34'\n",
    "    #PyEphem takes and returns only UTC times\n",
    "    obs.date = row['kv_shotDate']\n",
    "    if row['source'] == 'Mapillary':\n",
    "        dt = datetime.datetime.fromtimestamp(row['mly_captured_at']/1000).astimezone(pytz.utc)\n",
    "        dt_str = dt.strftime(\"%Y-%m-%d %H:%M:%S\")\n",
    "        obs.date = dt_str\n",
    "    obs.lon = str(row['lon']) #Note that lon should be in string format\n",
    "    obs.lat = str(row['lat']) #Note that lat should be in string format\n",
    "    uuid = row['uuid']\n",
    "    if row['calculated_day_night'] == 'day':\n",
    "        try:\n",
    "            next_sunset = obs.next_setting(ephem.Sun())\n",
    "            prev_sunrise = obs.previous_rising(ephem.Sun())\n",
    "            noon = prev_sunrise + (next_sunset - prev_sunrise) / 2\n",
    "            if obs.date < noon:\n",
    "                d = round((obs.date - prev_sunrise) * 24, 2)\n",
    "                hrs['uuid'].append(uuid)\n",
    "                hrs['hrs_aft_sunrise'].append(d)\n",
    "                hrs['hrs_aft_sunset'].append(np.nan)\n",
    "            else:\n",
    "                d = round((next_sunset - obs.date) * 24, 2)\n",
    "                hrs['uuid'].append(uuid)\n",
    "                hrs['hrs_aft_sunset'].append(-d)\n",
    "                hrs['hrs_aft_sunrise'].append(np.nan)\n",
    "        except:\n",
    "            print('Something went wrong. Sun is below / above the horizon at the sunrise / sunset time. Maybe polar night / polar day.')\n",
    "            print(uuid)\n",
    "            errors.append(uuid)\n",
    "    else:\n",
    "        try:\n",
    "            next_sunrise = obs.next_rising(ephem.Sun())\n",
    "            prev_sunset = obs.previous_setting(ephem.Sun())\n",
    "            midnight = prev_sunset + (next_sunrise - prev_sunset) / 2\n",
    "            if obs.date < midnight:\n",
    "                d = round((obs.date - prev_sunset) * 24, 2)\n",
    "                hrs['uuid'].append(uuid)\n",
    "                hrs['hrs_aft_sunset'].append(d)\n",
    "                hrs['hrs_aft_sunrise'].append(np.nan)\n",
    "            else:\n",
    "                d = round((next_sunrise - obs.date) * 24, 2)\n",
    "                hrs['uuid'].append(uuid)\n",
    "                hrs['hrs_aft_sunrise'].append(-d)\n",
    "                hrs['hrs_aft_sunset'].append(np.nan)\n",
    "        except:\n",
    "            print('Something went wrong. Sun is below / above the horizon at the sunrise / sunset time. Maybe polar night / polar day.')\n",
    "            print(uuid)\n",
    "            errors.append(uuid)"
   ]
  },
  {
   "cell_type": "code",
   "execution_count": 13,
   "id": "c78bf035-8313-410f-a5ac-4a33788223be",
   "metadata": {},
   "outputs": [
    {
     "data": {
      "text/html": [
       "<div>\n",
       "<style scoped>\n",
       "    .dataframe tbody tr th:only-of-type {\n",
       "        vertical-align: middle;\n",
       "    }\n",
       "\n",
       "    .dataframe tbody tr th {\n",
       "        vertical-align: top;\n",
       "    }\n",
       "\n",
       "    .dataframe thead th {\n",
       "        text-align: right;\n",
       "    }\n",
       "</style>\n",
       "<table border=\"1\" class=\"dataframe\">\n",
       "  <thead>\n",
       "    <tr style=\"text-align: right;\">\n",
       "      <th></th>\n",
       "      <th>uuid</th>\n",
       "      <th>hrs_aft_sunrise</th>\n",
       "      <th>hrs_aft_sunset</th>\n",
       "    </tr>\n",
       "  </thead>\n",
       "  <tbody>\n",
       "    <tr>\n",
       "      <th>0</th>\n",
       "      <td>d39b5e69-6291-46fc-a2f8-5947a7e024ee</td>\n",
       "      <td>-2.11</td>\n",
       "      <td>NaN</td>\n",
       "    </tr>\n",
       "    <tr>\n",
       "      <th>1</th>\n",
       "      <td>07968c89-5a2a-4913-a870-7eaab4830be5</td>\n",
       "      <td>-2.07</td>\n",
       "      <td>NaN</td>\n",
       "    </tr>\n",
       "    <tr>\n",
       "      <th>2</th>\n",
       "      <td>f8be9181-606c-4f23-88c5-2608d6cdea7b</td>\n",
       "      <td>NaN</td>\n",
       "      <td>0.11</td>\n",
       "    </tr>\n",
       "    <tr>\n",
       "      <th>3</th>\n",
       "      <td>b9929935-7b0c-4c57-aca5-8f01fa37ee8b</td>\n",
       "      <td>NaN</td>\n",
       "      <td>0.07</td>\n",
       "    </tr>\n",
       "    <tr>\n",
       "      <th>4</th>\n",
       "      <td>c10b66a3-68bd-4dcf-9a86-6b17806e1dfc</td>\n",
       "      <td>-2.13</td>\n",
       "      <td>NaN</td>\n",
       "    </tr>\n",
       "    <tr>\n",
       "      <th>...</th>\n",
       "      <td>...</td>\n",
       "      <td>...</td>\n",
       "      <td>...</td>\n",
       "    </tr>\n",
       "    <tr>\n",
       "      <th>2314</th>\n",
       "      <td>1fdf37e0-370b-4f02-8709-e7367b2b9c3d</td>\n",
       "      <td>4.71</td>\n",
       "      <td>NaN</td>\n",
       "    </tr>\n",
       "    <tr>\n",
       "      <th>2315</th>\n",
       "      <td>814f55a2-f98d-4c35-92c6-059e46552534</td>\n",
       "      <td>4.99</td>\n",
       "      <td>NaN</td>\n",
       "    </tr>\n",
       "    <tr>\n",
       "      <th>2316</th>\n",
       "      <td>cb644dac-f4e4-479e-95dc-1f317e01959d</td>\n",
       "      <td>4.96</td>\n",
       "      <td>NaN</td>\n",
       "    </tr>\n",
       "    <tr>\n",
       "      <th>2317</th>\n",
       "      <td>5f5ea4fe-a666-43cb-9b47-8684149ccf35</td>\n",
       "      <td>5.03</td>\n",
       "      <td>NaN</td>\n",
       "    </tr>\n",
       "    <tr>\n",
       "      <th>2318</th>\n",
       "      <td>8b4ca703-2985-4c35-b201-0225e3f81bae</td>\n",
       "      <td>5.08</td>\n",
       "      <td>NaN</td>\n",
       "    </tr>\n",
       "  </tbody>\n",
       "</table>\n",
       "<p>2319 rows × 3 columns</p>\n",
       "</div>"
      ],
      "text/plain": [
       "                                      uuid  hrs_aft_sunrise  hrs_aft_sunset\n",
       "0     d39b5e69-6291-46fc-a2f8-5947a7e024ee            -2.11             NaN\n",
       "1     07968c89-5a2a-4913-a870-7eaab4830be5            -2.07             NaN\n",
       "2     f8be9181-606c-4f23-88c5-2608d6cdea7b              NaN            0.11\n",
       "3     b9929935-7b0c-4c57-aca5-8f01fa37ee8b              NaN            0.07\n",
       "4     c10b66a3-68bd-4dcf-9a86-6b17806e1dfc            -2.13             NaN\n",
       "...                                    ...              ...             ...\n",
       "2314  1fdf37e0-370b-4f02-8709-e7367b2b9c3d             4.71             NaN\n",
       "2315  814f55a2-f98d-4c35-92c6-059e46552534             4.99             NaN\n",
       "2316  cb644dac-f4e4-479e-95dc-1f317e01959d             4.96             NaN\n",
       "2317  5f5ea4fe-a666-43cb-9b47-8684149ccf35             5.03             NaN\n",
       "2318  8b4ca703-2985-4c35-b201-0225e3f81bae             5.08             NaN\n",
       "\n",
       "[2319 rows x 3 columns]"
      ]
     },
     "execution_count": 13,
     "metadata": {},
     "output_type": "execute_result"
    }
   ],
   "source": [
    "df_hrs = pd.DataFrame.from_dict(hrs)\n",
    "df_hrs"
   ]
  },
  {
   "cell_type": "code",
   "execution_count": 14,
   "id": "e96ea786-0811-4bfb-bd60-b7b8dc48f0d1",
   "metadata": {},
   "outputs": [
    {
     "data": {
      "text/plain": [
       "2319"
      ]
     },
     "execution_count": 14,
     "metadata": {},
     "output_type": "execute_result"
    }
   ],
   "source": [
    "df_hrs['hrs_aft_sunrise'].isnull().sum() + df_hrs['hrs_aft_sunset'].isnull().sum()"
   ]
  },
  {
   "cell_type": "code",
   "execution_count": 15,
   "id": "dfac6356-f0fd-4e29-845a-f789d930de55",
   "metadata": {},
   "outputs": [
    {
     "data": {
      "text/html": [
       "<div>\n",
       "<style scoped>\n",
       "    .dataframe tbody tr th:only-of-type {\n",
       "        vertical-align: middle;\n",
       "    }\n",
       "\n",
       "    .dataframe tbody tr th {\n",
       "        vertical-align: top;\n",
       "    }\n",
       "\n",
       "    .dataframe thead th {\n",
       "        text-align: right;\n",
       "    }\n",
       "</style>\n",
       "<table border=\"1\" class=\"dataframe\">\n",
       "  <thead>\n",
       "    <tr style=\"text-align: right;\">\n",
       "      <th></th>\n",
       "      <th>uuid</th>\n",
       "      <th>hrs_aft_sunrise</th>\n",
       "      <th>hrs_aft_sunset</th>\n",
       "    </tr>\n",
       "  </thead>\n",
       "  <tbody>\n",
       "  </tbody>\n",
       "</table>\n",
       "</div>"
      ],
      "text/plain": [
       "Empty DataFrame\n",
       "Columns: [uuid, hrs_aft_sunrise, hrs_aft_sunset]\n",
       "Index: []"
      ]
     },
     "execution_count": 15,
     "metadata": {},
     "output_type": "execute_result"
    }
   ],
   "source": [
    "df_hrs[(df_hrs['hrs_aft_sunrise'].isnull()) & (df_hrs['hrs_aft_sunset'].isnull())]"
   ]
  },
  {
   "cell_type": "code",
   "execution_count": 16,
   "id": "a83ce70f-48c0-493f-b415-0dcb4a4a7cfb",
   "metadata": {},
   "outputs": [
    {
     "name": "stdout",
     "output_type": "stream",
     "text": [
      "<class 'pandas.core.frame.DataFrame'>\n",
      "Int64Index: 2319 entries, 0 to 2318\n",
      "Data columns (total 14 columns):\n",
      " #   Column                Non-Null Count  Dtype  \n",
      "---  ------                --------------  -----  \n",
      " 0   uuid                  2319 non-null   object \n",
      " 1   source                2319 non-null   object \n",
      " 2   orig_id               2319 non-null   int64  \n",
      " 3   mly_captured_at       1892 non-null   float64\n",
      " 4   kv_shotDate           427 non-null    object \n",
      " 5   city_id               2319 non-null   int64  \n",
      " 6   lat                   2319 non-null   float64\n",
      " 7   lon                   2319 non-null   float64\n",
      " 8   season                2319 non-null   object \n",
      " 9   timezone              2319 non-null   object \n",
      " 10  utc_offset_s          2319 non-null   float64\n",
      " 11  calculated_day_night  2319 non-null   object \n",
      " 12  hrs_aft_sunrise       2108 non-null   float64\n",
      " 13  hrs_aft_sunset        211 non-null    float64\n",
      "dtypes: float64(6), int64(2), object(6)\n",
      "memory usage: 271.8+ KB\n"
     ]
    }
   ],
   "source": [
    "df = df.merge(df_hrs, on='uuid', how='left')\n",
    "df.info(verbose=True, show_counts=True)"
   ]
  },
  {
   "cell_type": "code",
   "execution_count": 17,
   "id": "31f6a47c-dc2c-45e2-a8a4-36a79d96a7d3",
   "metadata": {},
   "outputs": [
    {
     "data": {
      "text/plain": [
       "<AxesSubplot:>"
      ]
     },
     "execution_count": 17,
     "metadata": {},
     "output_type": "execute_result"
    },
    {
     "data": {
      "image/png": "[encoded data removed]",
      "text/plain": [
       "<Figure size 432x288 with 1 Axes>"
      ]
     },
     "metadata": {
      "needs_background": "light"
     },
     "output_type": "display_data"
    }
   ],
   "source": [
    "df['calculated_day_night'].hist()"
   ]
  },
  {
   "cell_type": "code",
   "execution_count": 18,
   "id": "b02c5c48-36eb-44dd-a82f-78217ce43fba",
   "metadata": {},
   "outputs": [
    {
     "data": {
      "text/plain": [
       "<AxesSubplot:>"
      ]
     },
     "execution_count": 18,
     "metadata": {},
     "output_type": "execute_result"
    },
    {
     "data": {
      "image/png": "[encoded data removed]",
      "text/plain": [
       "<Figure size 432x288 with 1 Axes>"
      ]
     },
     "metadata": {
      "needs_background": "light"
     },
     "output_type": "display_data"
    }
   ],
   "source": [
    "df['hrs_aft_sunrise'].hist(bins=24)"
   ]
  },
  {
   "cell_type": "code",
   "execution_count": 19,
   "id": "7707cf7e-8d98-4be0-9b6b-24ec9d7fc7c0",
   "metadata": {},
   "outputs": [
    {
     "data": {
      "text/plain": [
       "<AxesSubplot:>"
      ]
     },
     "execution_count": 19,
     "metadata": {},
     "output_type": "execute_result"
    },
    {
     "data": {
      "image/png": "[encoded data removed]",
      "text/plain": [
       "<Figure size 432x288 with 1 Axes>"
      ]
     },
     "metadata": {
      "needs_background": "light"
     },
     "output_type": "display_data"
    }
   ],
   "source": [
    "df['hrs_aft_sunset'].hist(bins=24)"
   ]
  },
  {
   "cell_type": "code",
   "execution_count": 25,
   "id": "bfd3c9ad-734f-420d-8b4c-062d129d0671",
   "metadata": {},
   "outputs": [
    {
     "name": "stdout",
     "output_type": "stream",
     "text": [
      "<class 'pandas.core.frame.DataFrame'>\n",
      "Int64Index: 2319 entries, 0 to 2318\n",
      "Data columns (total 8 columns):\n",
      " #   Column                Non-Null Count  Dtype  \n",
      "---  ------                --------------  -----  \n",
      " 0   uuid                  2319 non-null   object \n",
      " 1   source                2319 non-null   object \n",
      " 2   orig_id               2319 non-null   int64  \n",
      " 3   timezone              2319 non-null   object \n",
      " 4   utc_offset_s          2319 non-null   float64\n",
      " 5   calculated_day_night  2319 non-null   object \n",
      " 6   hrs_aft_sunrise       2108 non-null   float64\n",
      " 7   hrs_aft_sunset        211 non-null    float64\n",
      "dtypes: float64(3), int64(1), object(4)\n",
      "memory usage: 163.1+ KB\n"
     ]
    }
   ],
   "source": [
    "cols = ['uuid',\n",
    " 'source',\n",
    " 'orig_id',\n",
    " 'timezone',\n",
    " 'utc_offset_s',\n",
    " 'calculated_day_night',\n",
    " 'hrs_aft_sunrise',\n",
    " 'hrs_aft_sunset']\n",
    "df = df[cols]\n",
    "df.info()"
   ]
  },
  {
   "cell_type": "code",
   "execution_count": 26,
   "id": "e2973681-d57d-42f7-9cf4-84bc3b7d901c",
   "metadata": {},
   "outputs": [],
   "source": [
    "df.to_csv('./sample_data/05_ephem.csv', index=False)"
   ]
  }
 ],
 "metadata": {
  "kernelspec": {
   "display_name": "Python 3 (ipykernel)",
   "language": "python",
   "name": "python3"
  },
  "language_info": {
   "codemirror_mode": {
    "name": "ipython",
    "version": 3
   },
   "file_extension": ".py",
   "mimetype": "text/x-python",
   "name": "python",
   "nbconvert_exporter": "python",
   "pygments_lexer": "ipython3",
   "version": "3.10.1"
  }
 },
 "nbformat": 4,
 "nbformat_minor": 5
}
