{
 "cells": [
  {
   "cell_type": "markdown",
   "id": "e31f4d0f-fe02-42a7-9892-682d9a286247",
   "metadata": {},
   "source": [
    "# Append GADM data"
   ]
  },
  {
   "cell_type": "code",
   "execution_count": 1,
   "id": "3b49e8a3-c950-4f3c-8422-9061f242d116",
   "metadata": {},
   "outputs": [],
   "source": [
    "import pandas as pd\n",
    "import geopandas as gp"
   ]
  },
  {
   "cell_type": "code",
   "execution_count": 2,
   "id": "e52537a5-84c7-4473-a08a-c013b5b7055d",
   "metadata": {},
   "outputs": [],
   "source": [
    "# first download the geopackage from https://gadm.org/download_world.html or https://geodata.ucdavis.edu/gadm/gadm4.1/gadm_410-levels.zip\n",
    "# then, run append_gadm.py (please first modify the path to your gadm data (gadm_410-levels.gpkg) accordingly in the script)"
   ]
  },
  {
   "cell_type": "code",
   "execution_count": 3,
   "id": "54301c46-8efc-4a6a-b8e0-ac6da536b37b",
   "metadata": {},
   "outputs": [
    {
     "name": "stdout",
     "output_type": "stream",
     "text": [
      "<class 'pandas.core.frame.DataFrame'>\n",
      "RangeIndex: 2319 entries, 0 to 2318\n",
      "Data columns (total 45 columns):\n",
      " #   Column       Non-Null Count  Dtype  \n",
      "---  ------       --------------  -----  \n",
      " 0   uuid         2319 non-null   object \n",
      " 1   source       2319 non-null   object \n",
      " 2   orig_id      2319 non-null   int64  \n",
      " 3   lat          2319 non-null   float64\n",
      " 4   lon          2319 non-null   float64\n",
      " 5   geometry     2319 non-null   object \n",
      " 6   index_right  2319 non-null   int64  \n",
      " 7   GID_0        2319 non-null   object \n",
      " 8   COUNTRY      2319 non-null   object \n",
      " 9   CC_1         1725 non-null   float64\n",
      " 10  ENGTYPE_1    2319 non-null   object \n",
      " 11  GID_1        2319 non-null   object \n",
      " 12  HASC_1       1725 non-null   object \n",
      " 13  ISO_1        0 non-null      float64\n",
      " 14  NAME_1       2319 non-null   object \n",
      " 15  NL_NAME_1    0 non-null      float64\n",
      " 16  TYPE_1       2319 non-null   object \n",
      " 17  VARNAME_1    0 non-null      float64\n",
      " 18  CC_2         1725 non-null   float64\n",
      " 19  ENGTYPE_2    1725 non-null   object \n",
      " 20  GID_2        1725 non-null   object \n",
      " 21  HASC_2       1725 non-null   object \n",
      " 22  NAME_2       1725 non-null   object \n",
      " 23  NL_NAME_2    0 non-null      float64\n",
      " 24  TYPE_2       1725 non-null   object \n",
      " 25  VARNAME_2    0 non-null      float64\n",
      " 26  CC_3         1725 non-null   float64\n",
      " 27  ENGTYPE_3    1725 non-null   object \n",
      " 28  GID_3        1725 non-null   object \n",
      " 29  HASC_3       0 non-null      float64\n",
      " 30  NAME_3       1725 non-null   object \n",
      " 31  NL_NAME_3    0 non-null      float64\n",
      " 32  TYPE_3       1725 non-null   object \n",
      " 33  VARNAME_3    0 non-null      float64\n",
      " 34  CC_4         1725 non-null   float64\n",
      " 35  ENGTYPE_4    1725 non-null   object \n",
      " 36  GID_4        1725 non-null   object \n",
      " 37  NAME_4       1725 non-null   object \n",
      " 38  TYPE_4       1725 non-null   object \n",
      " 39  VARNAME_4    0 non-null      float64\n",
      " 40  CC_5         0 non-null      float64\n",
      " 41  ENGTYPE_5    0 non-null      float64\n",
      " 42  GID_5        0 non-null      float64\n",
      " 43  NAME_5       0 non-null      float64\n",
      " 44  TYPE_5       0 non-null      float64\n",
      "dtypes: float64(20), int64(2), object(23)\n",
      "memory usage: 815.4+ KB\n"
     ]
    }
   ],
   "source": [
    "df = pd.read_csv('./sample_data/07_gadm.csv')\n",
    "df.info(verbose=True, show_counts=True)"
   ]
  },
  {
   "cell_type": "code",
   "execution_count": 4,
   "id": "54570f85-3ee0-49cf-9445-264eced4a631",
   "metadata": {},
   "outputs": [
    {
     "name": "stdout",
     "output_type": "stream",
     "text": [
      "<class 'pandas.core.frame.DataFrame'>\n",
      "RangeIndex: 2319 entries, 0 to 2318\n",
      "Data columns (total 41 columns):\n",
      " #   Column     Non-Null Count  Dtype  \n",
      "---  ------     --------------  -----  \n",
      " 0   uuid       2319 non-null   object \n",
      " 1   source     2319 non-null   object \n",
      " 2   orig_id    2319 non-null   int64  \n",
      " 3   GID_0      2319 non-null   object \n",
      " 4   COUNTRY    2319 non-null   object \n",
      " 5   CC_1       1725 non-null   float64\n",
      " 6   ENGTYPE_1  2319 non-null   object \n",
      " 7   GID_1      2319 non-null   object \n",
      " 8   HASC_1     1725 non-null   object \n",
      " 9   ISO_1      0 non-null      float64\n",
      " 10  NAME_1     2319 non-null   object \n",
      " 11  NL_NAME_1  0 non-null      float64\n",
      " 12  TYPE_1     2319 non-null   object \n",
      " 13  VARNAME_1  0 non-null      float64\n",
      " 14  CC_2       1725 non-null   float64\n",
      " 15  ENGTYPE_2  1725 non-null   object \n",
      " 16  GID_2      1725 non-null   object \n",
      " 17  HASC_2     1725 non-null   object \n",
      " 18  NAME_2     1725 non-null   object \n",
      " 19  NL_NAME_2  0 non-null      float64\n",
      " 20  TYPE_2     1725 non-null   object \n",
      " 21  VARNAME_2  0 non-null      float64\n",
      " 22  CC_3       1725 non-null   float64\n",
      " 23  ENGTYPE_3  1725 non-null   object \n",
      " 24  GID_3      1725 non-null   object \n",
      " 25  HASC_3     0 non-null      float64\n",
      " 26  NAME_3     1725 non-null   object \n",
      " 27  NL_NAME_3  0 non-null      float64\n",
      " 28  TYPE_3     1725 non-null   object \n",
      " 29  VARNAME_3  0 non-null      float64\n",
      " 30  CC_4       1725 non-null   float64\n",
      " 31  ENGTYPE_4  1725 non-null   object \n",
      " 32  GID_4      1725 non-null   object \n",
      " 33  NAME_4     1725 non-null   object \n",
      " 34  TYPE_4     1725 non-null   object \n",
      " 35  VARNAME_4  0 non-null      float64\n",
      " 36  CC_5       0 non-null      float64\n",
      " 37  ENGTYPE_5  0 non-null      float64\n",
      " 38  GID_5      0 non-null      float64\n",
      " 39  NAME_5     0 non-null      float64\n",
      " 40  TYPE_5     0 non-null      float64\n",
      "dtypes: float64(18), int64(1), object(22)\n",
      "memory usage: 742.9+ KB\n"
     ]
    }
   ],
   "source": [
    "df = df.drop(columns=['lat', 'lon', 'geometry', 'index_right'])\n",
    "df.info()"
   ]
  },
  {
   "cell_type": "code",
   "execution_count": 5,
   "id": "de510600-8002-41e4-9ece-441a0ca6fa12",
   "metadata": {},
   "outputs": [],
   "source": [
    "df.to_csv('./sample_data/08_gadm.csv', index=False)"
   ]
  }
 ],
 "metadata": {
  "kernelspec": {
   "display_name": "Python 3 (ipykernel)",
   "language": "python",
   "name": "python3"
  },
  "language_info": {
   "codemirror_mode": {
    "name": "ipython",
    "version": 3
   },
   "file_extension": ".py",
   "mimetype": "text/x-python",
   "name": "python",
   "nbconvert_exporter": "python",
   "pygments_lexer": "ipython3",
   "version": "3.10.1"
  }
 },
 "nbformat": 4,
 "nbformat_minor": 5
}
