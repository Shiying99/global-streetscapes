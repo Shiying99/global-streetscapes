{
 "cells": [
  {
   "cell_type": "markdown",
   "metadata": {},
   "source": [
    "# Download a subset of Global Streetscapes data"
   ]
  },
  {
   "cell_type": "markdown",
   "metadata": {},
   "source": [
    "This notebook demostrates how to filter the Global Streetscapes dataset to find the desired subset of data.\n",
    "As an example, we show how to filter for daytime images from Singapore, and how to prepare the input csv file for download_jpegs.py to download the required jpegs."
   ]
  },
  {
   "cell_type": "code",
   "execution_count": 1,
   "metadata": {
    "scrolled": true
   },
   "outputs": [],
   "source": [
    "import pandas as pd"
   ]
  },
  {
   "cell_type": "markdown",
   "metadata": {},
   "source": [
    "## Load file with available points"
   ]
  },
  {
   "cell_type": "code",
   "execution_count": 2,
   "metadata": {},
   "outputs": [
    {
     "name": "stdout",
     "output_type": "stream",
     "text": [
      "seg all shape:  (10004539, 69)\n",
      "seg person shape:  (4908219, 69)\n"
     ]
    }
   ],
   "source": [
    "# segmentation.csv\n",
    "df_seg_all = pd.read_csv(\n",
    "    \"C:/Users/ShiyingLi/Documents/SUE/global-streetscapes/data/segmentation.csv\"\n",
    ")  # update the location of the desired csv file\n",
    "print(\"seg all shape: \", df_seg_all.shape)\n",
    "df_seg_person = df_seg_all[df_seg_all[\"Person\"] > 0]\n",
    "print(\"seg person shape: \", df_seg_person.shape)\n",
    "\n",
    "# uuid, source, orig_id, Person"
   ]
  },
  {
   "cell_type": "code",
   "execution_count": 3,
   "metadata": {},
   "outputs": [
    {
     "name": "stdout",
     "output_type": "stream",
     "text": [
      "(10004457, 68)\n",
      "(5256997, 68)\n"
     ]
    }
   ],
   "source": [
    "# instances.csv: uuid, source, orig_id, Person, Bicyclist, Motorcyclist, Other-Rider\n",
    "df_instances_all = pd.read_csv(\n",
    "    \"C:/Users/ShiyingLi/Documents/SUE/global-streetscapes/data/instances.csv\"\n",
    ")  # update the location of the desired csv file\n",
    "\n",
    "print(df_instances_all.shape)\n",
    "\n",
    "df_instances_human = df_instances_all[(df_instances_all[\"Person\"]> 0) | (df_instances_all[\"Bicyclist\"]> 0) | (df_instances_all[\"Motorcyclist\"]> 0) | (df_instances_all[\"Other-Rider\"]> 0)]\n",
    "print(df_instances_human.shape)\n"
   ]
  },
  {
   "cell_type": "code",
   "execution_count": 22,
   "metadata": {},
   "outputs": [
    {
     "data": {
      "text/plain": [
       "0    14da5502-276a-4b0e-ab1b-9969bef7cf3a\n",
       "1    2fa06463-49f6-4d0c-8fdc-4ebf1754b996\n",
       "2    4fd8d540-1ca2-4cad-a140-3b86cc1bc140\n",
       "3    affed3dc-a9b7-4f5b-8b88-99fad7ee581e\n",
       "4    a22726a8-8128-459e-8fce-192ec58924a3\n",
       "Name: uuid, dtype: object"
      ]
     },
     "execution_count": 22,
     "metadata": {},
     "output_type": "execute_result"
    }
   ],
   "source": [
    "df_instances_human.reset_index(drop=True, inplace=True)\n",
    "df_instances_human[\"uuid\"].iloc[:5]"
   ]
  },
  {
   "cell_type": "code",
   "execution_count": 10,
   "metadata": {},
   "outputs": [
    {
     "data": {
      "text/plain": [
       "1     14da5502-276a-4b0e-ab1b-9969bef7cf3a\n",
       "2     2fa06463-49f6-4d0c-8fdc-4ebf1754b996\n",
       "5     4fd8d540-1ca2-4cad-a140-3b86cc1bc140\n",
       "6     affed3dc-a9b7-4f5b-8b88-99fad7ee581e\n",
       "12    a22726a8-8128-459e-8fce-192ec58924a3\n",
       "Name: uuid, dtype: object"
      ]
     },
     "execution_count": 10,
     "metadata": {},
     "output_type": "execute_result"
    }
   ],
   "source": [
    "df_instances_human[\"uuid\"].iloc[:5]"
   ]
  },
  {
   "cell_type": "code",
   "execution_count": 5,
   "metadata": {},
   "outputs": [
    {
     "name": "stderr",
     "output_type": "stream",
     "text": [
      "C:\\Users\\ShiyingLi\\AppData\\Local\\Temp\\ipykernel_24592\\3447849330.py:2: DtypeWarning: Columns (12) have mixed types. Specify dtype option on import or set low_memory=False.\n",
      "  df_simplemaps_all = pd.read_csv(\n"
     ]
    }
   ],
   "source": [
    "# simplemaps.csv: uuid, source, orig_id, Person, Bicyclist, Motorcyclist, Other-Rider\n",
    "df_simplemaps_all = pd.read_csv(\n",
    "    \"C:/Users/ShiyingLi/Documents/SUE/global-streetscapes/data/simplemaps.csv\"\n",
    ")  # update the location of the desired csv file"
   ]
  },
  {
   "cell_type": "code",
   "execution_count": 23,
   "metadata": {},
   "outputs": [
    {
     "name": "stdout",
     "output_type": "stream",
     "text": [
      "Simplemaps:  (10004551, 15)\n",
      "(5256997, 15)\n"
     ]
    }
   ],
   "source": [
    "print(\"Simplemaps: \", df_simplemaps_all.shape)\n",
    "\n",
    "df_country = df_simplemaps_all[df_simplemaps_all[\"uuid\"].isin(df_instances_human[\"uuid\"])]\n",
    "print(df_country.shape)"
   ]
  },
  {
   "cell_type": "code",
   "execution_count": null,
   "metadata": {},
   "outputs": [],
   "source": []
  },
  {
   "cell_type": "markdown",
   "metadata": {},
   "source": [
    "## Statistical Analysis of human related image"
   ]
  },
  {
   "cell_type": "code",
   "execution_count": 27,
   "metadata": {},
   "outputs": [
    {
     "name": "stdout",
     "output_type": "stream",
     "text": [
      "True\n",
      "Percentage of Mapillary =  0.8882672105706775\n",
      "Percentage of KartaView =  0.11173278942932253\n"
     ]
    }
   ],
   "source": [
    "df_seg_person_sorted = df_seg_person[[\"uuid\", \"source\", \"orig_id\", \"Person\"]].sort_values(by = \"Person\")\n",
    "nMapillary = df_seg_person_sorted[df_seg_person_sorted[\"source\"] == \"Mapillary\"].shape[0]\n",
    "nKartaView = df_seg_person_sorted[df_seg_person_sorted[\"source\"] == \"KartaView\"].shape[0]\n",
    "\n",
    "print(df_seg_person_sorted.shape[0] == nMapillary + nKartaView)\n",
    "print(\"Percentage of Mapillary = \", nMapillary /df_seg_person_sorted.shape[0])\n",
    "print(\"Percentage of KartaView = \", nKartaView /df_seg_person_sorted.shape[0])"
   ]
  },
  {
   "cell_type": "code",
   "execution_count": 28,
   "metadata": {},
   "outputs": [
    {
     "name": "stderr",
     "output_type": "stream",
     "text": [
      "C:\\Users\\ShiyingLi\\AppData\\Local\\Temp\\ipykernel_24592\\3628454579.py:2: SettingWithCopyWarning: \n",
      "A value is trying to be set on a copy of a slice from a DataFrame.\n",
      "Try using .loc[row_indexer,col_indexer] = value instead\n",
      "\n",
      "See the caveats in the documentation: https://pandas.pydata.org/pandas-docs/stable/user_guide/indexing.html#returning-a-view-versus-a-copy\n",
      "  df_instances_human [\"PersonCount\"] = df_instances_human[[\"Person\", \"Bicyclist\", \"Motorcyclist\", \"Other-Rider\"]].sum(axis=1)\n"
     ]
    },
    {
     "name": "stdout",
     "output_type": "stream",
     "text": [
      "True\n",
      "Percentage of Mapillary =  0.8816297593473993\n",
      "Percentage of KartaView =  0.11837024065260071\n"
     ]
    }
   ],
   "source": [
    "df_instances_human = df_instances_human[[\"uuid\", \"source\", \"orig_id\", \"Person\", \"Bicyclist\", \"Motorcyclist\", \"Other-Rider\"]]\n",
    "df_instances_human [\"PersonCount\"] = df_instances_human[[\"Person\", \"Bicyclist\", \"Motorcyclist\", \"Other-Rider\"]].sum(axis=1)\n",
    "df_instances_human_sorted = df_instances_human [[\"uuid\", \"source\", \"orig_id\",\"PersonCount\"]].sort_values(by=\"PersonCount\")\n",
    "\n",
    "nMapillary = df_instances_human_sorted[df_instances_human_sorted[\"source\"] == \"Mapillary\"].shape[0]\n",
    "nKartaView = df_instances_human_sorted[df_instances_human_sorted[\"source\"] == \"KartaView\"].shape[0]\n",
    "\n",
    "print(df_instances_human_sorted.shape[0] == nMapillary + nKartaView)\n",
    "print(\"Percentage of Mapillary = \", nMapillary /df_instances_human_sorted.shape[0])\n",
    "print(\"Percentage of KartaView = \", nKartaView /df_instances_human_sorted.shape[0])"
   ]
  },
  {
   "cell_type": "code",
   "execution_count": 37,
   "metadata": {},
   "outputs": [],
   "source": []
  },
  {
   "cell_type": "markdown",
   "metadata": {},
   "source": [
    "## Merge country to instance_human dataframe"
   ]
  },
  {
   "cell_type": "code",
   "execution_count": null,
   "metadata": {},
   "outputs": [],
   "source": [
    "# reset index\n",
    "df_instances_human_sorted.reset_index(drop=True, inplace=True)\n",
    "\n",
    "# Add country to df_instances_human_sorted\n",
    "df_human_country = pd.merge(df_instances_human_sorted, df_simplemaps_all[[\"uuid\", \"country\"]], on='uuid')"
   ]
  },
  {
   "cell_type": "code",
   "execution_count": 38,
   "metadata": {},
   "outputs": [
    {
     "data": {
      "text/plain": [
       "<bound method NDFrame.head of                                          uuid     source       orig_id  \\\n",
       "0        0b72517c-110b-4b7f-8c54-67c2f12e1d28  KartaView  1.248407e+09   \n",
       "1        f3f25720-5048-4add-a0d4-89335e742726  Mapillary  5.159699e+14   \n",
       "2        45997a61-beee-4c4a-90b3-429a17c0a9d6  Mapillary  3.697119e+14   \n",
       "3        ca9b6088-0126-4ef2-a272-38ffa62853d3  Mapillary  1.087089e+15   \n",
       "4        5399338b-288e-4958-85ca-83db2973fcca  Mapillary  2.766436e+14   \n",
       "...                                       ...        ...           ...   \n",
       "5256992  e90cf30c-0a29-44c5-948c-36d495fd9463  Mapillary  5.209638e+14   \n",
       "5256993  7b41c248-d7a8-4fd2-9993-a7596607b54e  Mapillary  6.535839e+14   \n",
       "5256994  32e5d81a-ef82-4e51-8985-1f890659537d  Mapillary  7.966561e+14   \n",
       "5256995  13022174-6cfe-4020-af19-d004aeeb0a81  Mapillary  3.308299e+14   \n",
       "5256996  c99bfaf7-2a52-407b-9f09-4a55ab3f8744  Mapillary  5.674937e+14   \n",
       "\n",
       "         PersonCount      country  \n",
       "0                1.0        Japan  \n",
       "1                1.0       Canada  \n",
       "2                1.0       Brazil  \n",
       "3                1.0         Laos  \n",
       "4                1.0  Philippines  \n",
       "...              ...          ...  \n",
       "5256992         49.0     Portugal  \n",
       "5256993         49.0      Austria  \n",
       "5256994         50.0    West Bank  \n",
       "5256995         51.0    Australia  \n",
       "5256996         58.0        Italy  \n",
       "\n",
       "[5256997 rows x 5 columns]>"
      ]
     },
     "execution_count": 38,
     "metadata": {},
     "output_type": "execute_result"
    }
   ],
   "source": [
    "df_human_country.head"
   ]
  },
  {
   "cell_type": "markdown",
   "metadata": {},
   "source": [
    "## Count the number of images per country"
   ]
  },
  {
   "cell_type": "code",
   "execution_count": 47,
   "metadata": {},
   "outputs": [
    {
     "name": "stdout",
     "output_type": "stream",
     "text": [
      "Number of unique country occured :  210\n"
     ]
    },
    {
     "data": {
      "text/plain": [
       "<bound method NDFrame.head of country\n",
       "Brazil                               398987\n",
       "United States                        361536\n",
       "Japan                                357264\n",
       "Germany                              343252\n",
       "Colombia                             296028\n",
       "                                      ...  \n",
       "Samoa                                    27\n",
       "Aruba                                    24\n",
       "Iraq                                     18\n",
       "Swaziland                                16\n",
       "Falkland Islands (Islas Malvinas)         3\n",
       "Name: count, Length: 210, dtype: int64>"
      ]
     },
     "execution_count": 47,
     "metadata": {},
     "output_type": "execute_result"
    }
   ],
   "source": [
    "print(\"Number of unique country occured : \", df_human_country[\"country\"].nunique())\n",
    "\n",
    "\n",
    "df_image_per_country = df_human_country[\"country\"].value_counts()\n",
    "\n",
    "df_image_per_country.sort_values(ascending=False).head"
   ]
  },
  {
   "cell_type": "code",
   "execution_count": 53,
   "metadata": {},
   "outputs": [
    {
     "data": {
      "text/plain": [
       "6932"
      ]
     },
     "execution_count": 53,
     "metadata": {},
     "output_type": "execute_result"
    }
   ],
   "source": [
    "df_image_per_country[\"Singapore\"]"
   ]
  },
  {
   "cell_type": "markdown",
   "metadata": {},
   "source": [
    "## Download Image from dataframe"
   ]
  },
  {
   "cell_type": "code",
   "execution_count": null,
   "metadata": {},
   "outputs": [],
   "source": [
    "# Mapillary\n",
    "\n",
    "# KartaView\n"
   ]
  },
  {
   "cell_type": "markdown",
   "metadata": {},
   "source": [
    "## Save to csv"
   ]
  },
  {
   "cell_type": "code",
   "execution_count": null,
   "metadata": {},
   "outputs": [],
   "source": [
    "# keep the three required columns\n",
    "df_to_download = df_city_merged[[\"uuid\", \"source\", \"orig_id\"]]\n",
    "# save the file\n",
    "df_to_download.to_csv(\"download_imgs/sgp_day.csv\")"
   ]
  }
 ],
 "metadata": {
  "kernelspec": {
   "display_name": "gstreetscapes",
   "language": "python",
   "name": "gstreetscapes"
  },
  "language_info": {
   "codemirror_mode": {
    "name": "ipython",
    "version": 3
   },
   "file_extension": ".py",
   "mimetype": "text/x-python",
   "name": "python",
   "nbconvert_exporter": "python",
   "pygments_lexer": "ipython3",
   "version": "3.10.14"
  },
  "widgets": {
   "application/vnd.jupyter.widget-state+json": {
    "state": {},
    "version_major": 2,
    "version_minor": 0
   }
  }
 },
 "nbformat": 4,
 "nbformat_minor": 5
}
