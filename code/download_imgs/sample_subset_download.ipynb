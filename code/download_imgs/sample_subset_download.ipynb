{
 "cells": [
  {
   "cell_type": "markdown",
   "id": "d51c9a8f-2474-49e5-b656-d273703fae54",
   "metadata": {},
   "source": [
    "# Download a subset of Global Streetscapes data"
   ]
  },
  {
   "cell_type": "markdown",
   "id": "d31c5801-ab60-45e4-bbbb-94a3633f515a",
   "metadata": {},
   "source": [
    "This notebook demostrates how to filter the Global Streetscapes dataset to find the desired subset of data.\n",
    "As an example, we show how to filter for daytime images from Singapore, and how to prepare the input csv file for download_jpegs.py to download the required jpegs."
   ]
  },
  {
   "cell_type": "code",
   "execution_count": 1,
   "id": "4879fbd4-f8c8-483e-aa09-28a815fc7823",
   "metadata": {},
   "outputs": [],
   "source": [
    "import pandas as pd"
   ]
  },
  {
   "cell_type": "markdown",
   "id": "2571d2f4-4a51-4715-84d7-c0049ccba449",
   "metadata": {},
   "source": [
    "## Load file with available points"
   ]
  },
  {
   "cell_type": "code",
   "execution_count": 2,
   "id": "ef168ef4-98ce-4a9d-81f5-f2f7042375ac",
   "metadata": {},
   "outputs": [
    {
     "name": "stderr",
     "output_type": "stream",
     "text": [
      "/var/folders/kw/9lnn_1r159n28p1krywmf8_w0000gq/T/ipykernel_55877/2694950388.py:2: DtypeWarning: Columns (13) have mixed types. Specify dtype option on import or set low_memory=False.\n",
      "  df_all = pd.read_csv('data/global-streetscapes/simplemaps.csv') # update the location of the desired csv file\n"
     ]
    }
   ],
   "source": [
    "# the city information is available in the `simplemaps.csv` file\n",
    "df_all = pd.read_csv(\n",
    "    \"data/tables/simplemaps.csv\"\n",
    ")  # update the location of the desired csv file"
   ]
  },
  {
   "cell_type": "markdown",
   "id": "a158e471-9e9a-4781-9278-445c21ca45b9",
   "metadata": {},
   "source": [
    "## Filter based on city"
   ]
  },
  {
   "cell_type": "code",
   "execution_count": 3,
   "id": "8932b05d-f841-4725-a59c-1c363a82f902",
   "metadata": {},
   "outputs": [
    {
     "data": {
      "text/plain": [
       "array(['Singapore'], dtype=object)"
      ]
     },
     "execution_count": 3,
     "metadata": {},
     "output_type": "execute_result"
    }
   ],
   "source": [
    "df_city = df_all[df_all[\"city\"] == \"Singapore\"]\n",
    "\n",
    "# visual confirmation the city name is unique. Otherwise there would be more than one value\n",
    "df_city[\"country\"].unique()"
   ]
  },
  {
   "cell_type": "markdown",
   "id": "7c636838-ccfd-4144-ae5a-05383b77f28e",
   "metadata": {},
   "source": [
    "## Filter based on contexual information: lighting condition"
   ]
  },
  {
   "cell_type": "code",
   "execution_count": 4,
   "id": "98edc846-4c04-4ffa-97aa-54e5c2b5c70e",
   "metadata": {},
   "outputs": [
    {
     "name": "stderr",
     "output_type": "stream",
     "text": [
      "/var/folders/kw/9lnn_1r159n28p1krywmf8_w0000gq/T/ipykernel_55877/1394320289.py:2: DtypeWarning: Columns (9) have mixed types. Specify dtype option on import or set low_memory=False.\n",
      "  df_contextual = pd.read_csv(\"data/global-streetscapes/contextual.csv\")\n"
     ]
    }
   ],
   "source": [
    "# load contextual information\n",
    "df_contextual = pd.read_csv(\"data/tables/contextual.csv\")"
   ]
  },
  {
   "cell_type": "code",
   "execution_count": null,
   "id": "0e68b03b-ffd6-4259-b6de-36d027fc012c",
   "metadata": {},
   "outputs": [],
   "source": [
    "# merge our filtered dataset with contextual data\n",
    "df_city_merged = df_city.merge(df_contextual, on=[\"uuid\", \"source\", \"orig_id\"])\n",
    "df_city_merged[\"lighting_condition\"].unique()"
   ]
  },
  {
   "cell_type": "code",
   "execution_count": null,
   "id": "54407ab1-a82c-4697-9fc4-45b6848a3fcf",
   "metadata": {},
   "outputs": [],
   "source": [
    "# filter only the rows during `day`\n",
    "df_city_merged = df_city_merged[df_city_merged[\"lighting_condition\"] == \"day\"]\n",
    "df_city_merged[\"lighting_condition\"].unique()"
   ]
  },
  {
   "cell_type": "markdown",
   "id": "eabfee18-b4b9-4c10-847c-a5d75260fa8d",
   "metadata": {},
   "source": [
    "## Save to csv"
   ]
  },
  {
   "cell_type": "code",
   "execution_count": null,
   "id": "f27ed25e-23c3-4ed5-bc2c-38b0bd9fea93",
   "metadata": {},
   "outputs": [],
   "source": [
    "# keep the three required columns\n",
    "df_to_download = df_city_merged[[\"uuid\", \"source\", \"orig_id\"]]\n",
    "# save the file\n",
    "df_to_download.to_csv(\"download_imgs/sgp_day.csv\")"
   ]
  }
 ],
 "metadata": {
  "kernelspec": {
   "display_name": "perception",
   "language": "python",
   "name": "perception"
  },
  "language_info": {
   "codemirror_mode": {
    "name": "ipython",
    "version": 3
   },
   "file_extension": ".py",
   "mimetype": "text/x-python",
   "name": "python",
   "nbconvert_exporter": "python",
   "pygments_lexer": "ipython3",
   "version": "3.9.18"
  },
  "widgets": {
   "application/vnd.jupyter.widget-state+json": {
    "state": {},
    "version_major": 2,
    "version_minor": 0
   }
  }
 },
 "nbformat": 4,
 "nbformat_minor": 5
}
