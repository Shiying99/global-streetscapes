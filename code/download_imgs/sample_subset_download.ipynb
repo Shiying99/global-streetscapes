{
 "cells": [
  {
   "cell_type": "markdown",
   "metadata": {},
   "source": [
    "# Download a subset of Global Streetscapes data"
   ]
  },
  {
   "cell_type": "markdown",
   "metadata": {},
   "source": [
    "This notebook demostrates how to filter the Global Streetscapes dataset to find the desired subset of data.\n",
    "As an example, we show how to filter for daytime images from Singapore, and how to prepare the input csv file for download_jpegs.py to download the required jpegs."
   ]
  },
  {
   "cell_type": "code",
   "execution_count": 10,
   "metadata": {
    "scrolled": true
   },
   "outputs": [],
   "source": [
    "import pandas as pd"
   ]
  },
  {
   "cell_type": "markdown",
   "metadata": {},
   "source": [
    "## Load file with available points"
   ]
  },
  {
   "cell_type": "code",
   "execution_count": 12,
   "metadata": {},
   "outputs": [
    {
     "name": "stdout",
     "output_type": "stream",
     "text": [
      "seg all shape:  (10004539, 69)\n",
      "seg person shape:  (4908219, 69)\n"
     ]
    }
   ],
   "source": [
    "# segmentation.csv\n",
    "df_seg_all = pd.read_csv(\n",
    "    \"C:/Users/ShiyingLi/Documents/SUE/global-streetscapes/data/segmentation.csv\"\n",
    ")  # update the location of the desired csv file\n",
    "print(\"seg all shape: \", df_seg_all.shape)\n",
    "df_seg_person = df_seg_all[df_seg_all[\"Person\"] > 0]\n",
    "print(\"seg person shape: \", df_seg_person.shape)\n",
    "\n",
    "# uuid, source, orig_id, Person"
   ]
  },
  {
   "cell_type": "code",
   "execution_count": 14,
   "metadata": {},
   "outputs": [],
   "source": [
    "# instances.csv: uuid, source, orig_id, Person, Bicyclist, Motorcyclist, Other-Rider\n",
    "df_instances_all = pd.read_csv(\n",
    "    \"C:/Users/ShiyingLi/Documents/SUE/global-streetscapes/data/instances.csv\"\n",
    ")  # update the location of the desired csv file\n",
    "\n",
    "print(df_instances_all.shape)\n",
    "\n",
    "df_instances_human = df_instances_all[(df_instances_all[\"Person\"]> 0) | (df_instances_all[\"Bicyclist\"]> 0) | (df_instances_all[\"Motorcyclist\"]> 0) | (df_instances_all[\"Other-Rider\"]> 0)]\n",
    "print(df_instances_human.shape)\n"
   ]
  },
  {
   "cell_type": "code",
   "execution_count": 20,
   "metadata": {},
   "outputs": [
    {
     "name": "stdout",
     "output_type": "stream",
     "text": [
      "(10004457, 68)\n",
      "(5256997, 68)\n"
     ]
    }
   ],
   "source": [
    "# simplemaps.csv: uuid, source, orig_id, Person, Bicyclist, Motorcyclist, Other-Rider\n",
    "df_simplemaps_all = pd.read_csv(\n",
    "    \"C:/Users/ShiyingLi/Documents/SUE/global-streetscapes/data/simplemaps.csv\"\n",
    ")  # update the location of the desired csv file\n",
    "\n"
   ]
  },
  {
   "cell_type": "markdown",
   "metadata": {},
   "source": [
    "## Statistical Analysis of human related image"
   ]
  },
  {
   "cell_type": "code",
   "execution_count": 25,
   "metadata": {},
   "outputs": [],
   "source": [
    "df_seg_person_sorted = df_seg_person[[\"uuid\", \"source\", \"orig_id\", \"Person\"]].sort_values(by = \"Person\")\n",
    "nMapillary = df_seg_person_sorted[df_seg_person_sorted[\"source\"] == \"Mapillary\"].shape[0]\n",
    "nKartaView = df_seg_person_sorted[df_seg_person_sorted[\"source\"] == \"KartaView\"].shape[0]\n",
    "\n",
    "print(df_seg_person_sorted.shape[0] == nMapillary + nKartaView)\n",
    "print(\"Percentage of Mapillary = \", nMapillary /df_seg_person_sorted.shape[0])\n",
    "print(\"Percentage of KartaView = \", nKartaView /df_seg_person_sorted.shape[0])"
   ]
  },
  {
   "cell_type": "code",
   "execution_count": 30,
   "metadata": {},
   "outputs": [
    {
     "name": "stdout",
     "output_type": "stream",
     "text": [
      "True\n",
      "Percentage of Mapillary =  0.8816297593473993\n",
      "Percentage of KartaView =  0.11837024065260071\n"
     ]
    }
   ],
   "source": [
    "df_instances_human = df_instances_human[[\"uuid\", \"source\", \"orig_id\", \"Person\", \"Bicyclist\", \"Motorcyclist\", \"Other-Rider\"]]\n",
    "df_instances_human [\"PersonCount\"] = df_instances_human[[\"Person\", \"Bicyclist\", \"Motorcyclist\", \"Other-Rider\"]].sum(axis=1)\n",
    "df_instances_human_sorted = df_instances_human [[\"uuid\", \"source\", \"orig_id\",\"PersonCount\"]].sort_values(by=\"PersonCount\")\n",
    "\n",
    "nMapillary = df_instances_human_sorted[df_instances_human_sorted[\"source\"] == \"Mapillary\"].shape[0]\n",
    "nKartaView = df_instances_human_sorted[df_instances_human_sorted[\"source\"] == \"KartaView\"].shape[0]\n",
    "\n",
    "print(df_instances_human_sorted.shape[0] == nMapillary + nKartaView)\n",
    "print(\"Percentage of Mapillary = \", nMapillary /df_instances_human_sorted.shape[0])\n",
    "print(\"Percentage of KartaView = \", nKartaView /df_instances_human_sorted.shape[0])"
   ]
  },
  {
   "cell_type": "code",
   "execution_count": 31,
   "metadata": {},
   "outputs": [
    {
     "data": {
      "text/plain": [
       "<bound method NDFrame.head of 10004442     1.0\n",
       "2186349      1.0\n",
       "2186347      1.0\n",
       "6097796      1.0\n",
       "2186344      1.0\n",
       "            ... \n",
       "3163564     49.0\n",
       "3970271     49.0\n",
       "2184737     50.0\n",
       "7289577     51.0\n",
       "2255366     58.0\n",
       "Name: PersonCount, Length: 5256997, dtype: float64>"
      ]
     },
     "execution_count": 31,
     "metadata": {},
     "output_type": "execute_result"
    }
   ],
   "source": [
    "df_instances_human_sorted[\"PersonCount\"].head"
   ]
  },
  {
   "cell_type": "markdown",
   "metadata": {},
   "source": [
    "## Filter based on city"
   ]
  },
  {
   "cell_type": "code",
   "execution_count": 8,
   "metadata": {},
   "outputs": [
    {
     "ename": "TypeError",
     "evalue": "'TextFileReader' object is not subscriptable",
     "output_type": "error",
     "traceback": [
      "\u001b[1;31m---------------------------------------------------------------------------\u001b[0m",
      "\u001b[1;31mTypeError\u001b[0m                                 Traceback (most recent call last)",
      "Cell \u001b[1;32mIn[8], line 1\u001b[0m\n\u001b[1;32m----> 1\u001b[0m df_city \u001b[38;5;241m=\u001b[39m df_all[\u001b[43mdf_all\u001b[49m\u001b[43m[\u001b[49m\u001b[38;5;124;43m\"\u001b[39;49m\u001b[38;5;124;43mcity\u001b[39;49m\u001b[38;5;124;43m\"\u001b[39;49m\u001b[43m]\u001b[49m \u001b[38;5;241m==\u001b[39m \u001b[38;5;124m\"\u001b[39m\u001b[38;5;124mSingapore\u001b[39m\u001b[38;5;124m\"\u001b[39m]\n\u001b[0;32m      3\u001b[0m \u001b[38;5;66;03m# visual confirmation the city name is unique. Otherwise there would be more than one value\u001b[39;00m\n\u001b[0;32m      4\u001b[0m df_city[\u001b[38;5;124m\"\u001b[39m\u001b[38;5;124mcountry\u001b[39m\u001b[38;5;124m\"\u001b[39m]\u001b[38;5;241m.\u001b[39munique()\n",
      "\u001b[1;31mTypeError\u001b[0m: 'TextFileReader' object is not subscriptable"
     ]
    }
   ],
   "source": [
    "df_city = df_all[df_all[\"city\"] == \"Singapore\"]\n",
    "\n",
    "# visual confirmation the city name is unique. Otherwise there would be more than one value\n",
    "df_city[\"country\"].unique()"
   ]
  },
  {
   "cell_type": "markdown",
   "metadata": {},
   "source": [
    "## Filter based on contexual information: lighting condition"
   ]
  },
  {
   "cell_type": "code",
   "execution_count": 4,
   "metadata": {},
   "outputs": [
    {
     "name": "stderr",
     "output_type": "stream",
     "text": [
      "/var/folders/kw/9lnn_1r159n28p1krywmf8_w0000gq/T/ipykernel_55877/1394320289.py:2: DtypeWarning: Columns (9) have mixed types. Specify dtype option on import or set low_memory=False.\n",
      "  df_contextual = pd.read_csv(\"data/global-streetscapes/contextual.csv\")\n"
     ]
    }
   ],
   "source": [
    "# load contextual information\n",
    "df_contextual = pd.read_csv(\"data/tables/contextual.csv\")"
   ]
  },
  {
   "cell_type": "code",
   "execution_count": null,
   "metadata": {},
   "outputs": [],
   "source": [
    "# merge our filtered dataset with contextual data\n",
    "df_city_merged = df_city.merge(df_contextual, on=[\"uuid\", \"source\", \"orig_id\"])\n",
    "df_city_merged[\"lighting_condition\"].unique()"
   ]
  },
  {
   "cell_type": "code",
   "execution_count": null,
   "metadata": {},
   "outputs": [],
   "source": [
    "# filter only the rows during `day`\n",
    "df_city_merged = df_city_merged[df_city_merged[\"lighting_condition\"] == \"day\"]\n",
    "df_city_merged[\"lighting_condition\"].unique()"
   ]
  },
  {
   "cell_type": "markdown",
   "metadata": {},
   "source": [
    "## Save to csv"
   ]
  },
  {
   "cell_type": "code",
   "execution_count": null,
   "metadata": {},
   "outputs": [],
   "source": [
    "# keep the three required columns\n",
    "df_to_download = df_city_merged[[\"uuid\", \"source\", \"orig_id\"]]\n",
    "# save the file\n",
    "df_to_download.to_csv(\"download_imgs/sgp_day.csv\")"
   ]
  }
 ],
 "metadata": {
  "kernelspec": {
   "display_name": "gstreetscapes",
   "language": "python",
   "name": "gstreetscapes"
  },
  "language_info": {
   "codemirror_mode": {
    "name": "ipython",
    "version": 3
   },
   "file_extension": ".py",
   "mimetype": "text/x-python",
   "name": "python",
   "nbconvert_exporter": "python",
   "pygments_lexer": "ipython3",
   "version": "3.10.14"
  },
  "widgets": {
   "application/vnd.jupyter.widget-state+json": {
    "state": {},
    "version_major": 2,
    "version_minor": 0
   }
  }
 },
 "nbformat": 4,
 "nbformat_minor": 5
}
